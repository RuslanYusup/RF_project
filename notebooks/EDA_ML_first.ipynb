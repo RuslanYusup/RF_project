{
 "cells": [
  {
   "cell_type": "code",
   "execution_count": 355,
   "metadata": {},
   "outputs": [],
   "source": [
    "import numpy as np\n",
    "import pandas as pd\n",
    "from collections import Counter\n",
    "import re\n",
    "import datetime\n",
    "from datetime import datetime\n",
    "import matplotlib.pyplot as plt\n",
    "import seaborn as sns\n",
    "%matplotlib inline\n",
    "from IPython.display import display"
   ]
  },
  {
   "cell_type": "code",
   "execution_count": 356,
   "metadata": {},
   "outputs": [],
   "source": [
    "# зафиксируем параметры и версию пакетов, чтобы эксперименты были воспроизводимы\n",
    "RANDOM_SEED = 42\n",
    "!pip freeze > requirements.txt"
   ]
  },
  {
   "cell_type": "markdown",
   "metadata": {},
   "source": [
    "## План работы\n",
    "* Загрузка данных и знакомство\n",
    "* Изучаем данные в целом\n",
    "* Изучаем каждую фичу на пропуски, чистим, вытаскиваем нужные признаки, сохраняем\n",
    "* Определяем основные фичи, остальное удаляем\n",
    "* Подготавливаем датасет для модели\n",
    "* Скормливаем и смотрим метрики\n",
    "* Выявляем наиболее влияющие признаки и при необходимости улучшаем модель\n"
   ]
  },
  {
   "cell_type": "code",
   "execution_count": 357,
   "metadata": {},
   "outputs": [
    {
     "data": {
      "text/html": [
       "<div>\n",
       "<style scoped>\n",
       "    .dataframe tbody tr th:only-of-type {\n",
       "        vertical-align: middle;\n",
       "    }\n",
       "\n",
       "    .dataframe tbody tr th {\n",
       "        vertical-align: top;\n",
       "    }\n",
       "\n",
       "    .dataframe thead th {\n",
       "        text-align: right;\n",
       "    }\n",
       "</style>\n",
       "<table border=\"1\" class=\"dataframe\">\n",
       "  <thead>\n",
       "    <tr style=\"text-align: right;\">\n",
       "      <th></th>\n",
       "      <th>Restaurant_id</th>\n",
       "      <th>City</th>\n",
       "      <th>Cuisine Style</th>\n",
       "      <th>Ranking</th>\n",
       "      <th>Rating</th>\n",
       "      <th>Price Range</th>\n",
       "      <th>Number of Reviews</th>\n",
       "      <th>Reviews</th>\n",
       "      <th>URL_TA</th>\n",
       "      <th>ID_TA</th>\n",
       "    </tr>\n",
       "  </thead>\n",
       "  <tbody>\n",
       "    <tr>\n",
       "      <th>0</th>\n",
       "      <td>id_5569</td>\n",
       "      <td>Paris</td>\n",
       "      <td>['European', 'French', 'International']</td>\n",
       "      <td>5570.0</td>\n",
       "      <td>3.5</td>\n",
       "      <td>$$ - $$$</td>\n",
       "      <td>194.0</td>\n",
       "      <td>[['Good food at your doorstep', 'A good hotel ...</td>\n",
       "      <td>/Restaurant_Review-g187147-d1912643-Reviews-R_...</td>\n",
       "      <td>d1912643</td>\n",
       "    </tr>\n",
       "    <tr>\n",
       "      <th>1</th>\n",
       "      <td>id_1535</td>\n",
       "      <td>Stockholm</td>\n",
       "      <td>NaN</td>\n",
       "      <td>1537.0</td>\n",
       "      <td>4.0</td>\n",
       "      <td>NaN</td>\n",
       "      <td>10.0</td>\n",
       "      <td>[['Unique cuisine', 'Delicious Nepalese food']...</td>\n",
       "      <td>/Restaurant_Review-g189852-d7992032-Reviews-Bu...</td>\n",
       "      <td>d7992032</td>\n",
       "    </tr>\n",
       "    <tr>\n",
       "      <th>2</th>\n",
       "      <td>id_352</td>\n",
       "      <td>London</td>\n",
       "      <td>['Japanese', 'Sushi', 'Asian', 'Grill', 'Veget...</td>\n",
       "      <td>353.0</td>\n",
       "      <td>4.5</td>\n",
       "      <td>$$$$</td>\n",
       "      <td>688.0</td>\n",
       "      <td>[['Catch up with friends', 'Not exceptional'],...</td>\n",
       "      <td>/Restaurant_Review-g186338-d8632781-Reviews-RO...</td>\n",
       "      <td>d8632781</td>\n",
       "    </tr>\n",
       "    <tr>\n",
       "      <th>3</th>\n",
       "      <td>id_3456</td>\n",
       "      <td>Berlin</td>\n",
       "      <td>NaN</td>\n",
       "      <td>3458.0</td>\n",
       "      <td>5.0</td>\n",
       "      <td>NaN</td>\n",
       "      <td>3.0</td>\n",
       "      <td>[[], []]</td>\n",
       "      <td>/Restaurant_Review-g187323-d1358776-Reviews-Es...</td>\n",
       "      <td>d1358776</td>\n",
       "    </tr>\n",
       "    <tr>\n",
       "      <th>4</th>\n",
       "      <td>id_615</td>\n",
       "      <td>Munich</td>\n",
       "      <td>['German', 'Central European', 'Vegetarian Fri...</td>\n",
       "      <td>621.0</td>\n",
       "      <td>4.0</td>\n",
       "      <td>$$ - $$$</td>\n",
       "      <td>84.0</td>\n",
       "      <td>[['Best place to try a Bavarian food', 'Nice b...</td>\n",
       "      <td>/Restaurant_Review-g187309-d6864963-Reviews-Au...</td>\n",
       "      <td>d6864963</td>\n",
       "    </tr>\n",
       "  </tbody>\n",
       "</table>\n",
       "</div>"
      ],
      "text/plain": [
       "  Restaurant_id       City                                      Cuisine Style  \\\n",
       "0       id_5569      Paris            ['European', 'French', 'International']   \n",
       "1       id_1535  Stockholm                                                NaN   \n",
       "2        id_352     London  ['Japanese', 'Sushi', 'Asian', 'Grill', 'Veget...   \n",
       "3       id_3456     Berlin                                                NaN   \n",
       "4        id_615     Munich  ['German', 'Central European', 'Vegetarian Fri...   \n",
       "\n",
       "   Ranking  Rating Price Range  Number of Reviews  \\\n",
       "0   5570.0     3.5    $$ - $$$              194.0   \n",
       "1   1537.0     4.0         NaN               10.0   \n",
       "2    353.0     4.5        $$$$              688.0   \n",
       "3   3458.0     5.0         NaN                3.0   \n",
       "4    621.0     4.0    $$ - $$$               84.0   \n",
       "\n",
       "                                             Reviews  \\\n",
       "0  [['Good food at your doorstep', 'A good hotel ...   \n",
       "1  [['Unique cuisine', 'Delicious Nepalese food']...   \n",
       "2  [['Catch up with friends', 'Not exceptional'],...   \n",
       "3                                           [[], []]   \n",
       "4  [['Best place to try a Bavarian food', 'Nice b...   \n",
       "\n",
       "                                              URL_TA     ID_TA  \n",
       "0  /Restaurant_Review-g187147-d1912643-Reviews-R_...  d1912643  \n",
       "1  /Restaurant_Review-g189852-d7992032-Reviews-Bu...  d7992032  \n",
       "2  /Restaurant_Review-g186338-d8632781-Reviews-RO...  d8632781  \n",
       "3  /Restaurant_Review-g187323-d1358776-Reviews-Es...  d1358776  \n",
       "4  /Restaurant_Review-g187309-d6864963-Reviews-Au...  d6864963  "
      ]
     },
     "metadata": {},
     "output_type": "display_data"
    },
    {
     "name": "stdout",
     "output_type": "stream",
     "text": [
      "<class 'pandas.core.frame.DataFrame'>\n",
      "RangeIndex: 40000 entries, 0 to 39999\n",
      "Data columns (total 10 columns):\n",
      " #   Column             Non-Null Count  Dtype  \n",
      "---  ------             --------------  -----  \n",
      " 0   Restaurant_id      40000 non-null  object \n",
      " 1   City               40000 non-null  object \n",
      " 2   Cuisine Style      30717 non-null  object \n",
      " 3   Ranking            40000 non-null  float64\n",
      " 4   Rating             40000 non-null  float64\n",
      " 5   Price Range        26114 non-null  object \n",
      " 6   Number of Reviews  37457 non-null  float64\n",
      " 7   Reviews            40000 non-null  object \n",
      " 8   URL_TA             40000 non-null  object \n",
      " 9   ID_TA              40000 non-null  object \n",
      "dtypes: float64(3), object(7)\n",
      "memory usage: 3.1+ MB\n"
     ]
    },
    {
     "data": {
      "text/plain": [
       "None"
      ]
     },
     "metadata": {},
     "output_type": "display_data"
    },
    {
     "data": {
      "text/html": [
       "<div>\n",
       "<style scoped>\n",
       "    .dataframe tbody tr th:only-of-type {\n",
       "        vertical-align: middle;\n",
       "    }\n",
       "\n",
       "    .dataframe tbody tr th {\n",
       "        vertical-align: top;\n",
       "    }\n",
       "\n",
       "    .dataframe thead th {\n",
       "        text-align: right;\n",
       "    }\n",
       "</style>\n",
       "<table border=\"1\" class=\"dataframe\">\n",
       "  <thead>\n",
       "    <tr style=\"text-align: right;\">\n",
       "      <th></th>\n",
       "      <th>Ranking</th>\n",
       "      <th>Rating</th>\n",
       "      <th>Number of Reviews</th>\n",
       "    </tr>\n",
       "  </thead>\n",
       "  <tbody>\n",
       "    <tr>\n",
       "      <th>count</th>\n",
       "      <td>40000.000000</td>\n",
       "      <td>40000.000000</td>\n",
       "      <td>37457.000000</td>\n",
       "    </tr>\n",
       "    <tr>\n",
       "      <th>mean</th>\n",
       "      <td>3676.028525</td>\n",
       "      <td>3.993037</td>\n",
       "      <td>124.825480</td>\n",
       "    </tr>\n",
       "    <tr>\n",
       "      <th>std</th>\n",
       "      <td>3708.749567</td>\n",
       "      <td>0.668417</td>\n",
       "      <td>295.666352</td>\n",
       "    </tr>\n",
       "    <tr>\n",
       "      <th>min</th>\n",
       "      <td>1.000000</td>\n",
       "      <td>1.000000</td>\n",
       "      <td>2.000000</td>\n",
       "    </tr>\n",
       "    <tr>\n",
       "      <th>25%</th>\n",
       "      <td>973.000000</td>\n",
       "      <td>3.500000</td>\n",
       "      <td>9.000000</td>\n",
       "    </tr>\n",
       "    <tr>\n",
       "      <th>50%</th>\n",
       "      <td>2285.000000</td>\n",
       "      <td>4.000000</td>\n",
       "      <td>33.000000</td>\n",
       "    </tr>\n",
       "    <tr>\n",
       "      <th>75%</th>\n",
       "      <td>5260.000000</td>\n",
       "      <td>4.500000</td>\n",
       "      <td>115.000000</td>\n",
       "    </tr>\n",
       "    <tr>\n",
       "      <th>max</th>\n",
       "      <td>16444.000000</td>\n",
       "      <td>5.000000</td>\n",
       "      <td>9660.000000</td>\n",
       "    </tr>\n",
       "  </tbody>\n",
       "</table>\n",
       "</div>"
      ],
      "text/plain": [
       "            Ranking        Rating  Number of Reviews\n",
       "count  40000.000000  40000.000000       37457.000000\n",
       "mean    3676.028525      3.993037         124.825480\n",
       "std     3708.749567      0.668417         295.666352\n",
       "min        1.000000      1.000000           2.000000\n",
       "25%      973.000000      3.500000           9.000000\n",
       "50%     2285.000000      4.000000          33.000000\n",
       "75%     5260.000000      4.500000         115.000000\n",
       "max    16444.000000      5.000000        9660.000000"
      ]
     },
     "metadata": {},
     "output_type": "display_data"
    },
    {
     "data": {
      "text/html": [
       "<div>\n",
       "<style scoped>\n",
       "    .dataframe tbody tr th:only-of-type {\n",
       "        vertical-align: middle;\n",
       "    }\n",
       "\n",
       "    .dataframe tbody tr th {\n",
       "        vertical-align: top;\n",
       "    }\n",
       "\n",
       "    .dataframe thead th {\n",
       "        text-align: right;\n",
       "    }\n",
       "</style>\n",
       "<table border=\"1\" class=\"dataframe\">\n",
       "  <thead>\n",
       "    <tr style=\"text-align: right;\">\n",
       "      <th></th>\n",
       "      <th>Restaurant_id</th>\n",
       "      <th>City</th>\n",
       "      <th>Cuisine Style</th>\n",
       "      <th>Ranking</th>\n",
       "      <th>Price Range</th>\n",
       "      <th>Number of Reviews</th>\n",
       "      <th>Reviews</th>\n",
       "      <th>URL_TA</th>\n",
       "      <th>ID_TA</th>\n",
       "    </tr>\n",
       "  </thead>\n",
       "  <tbody>\n",
       "    <tr>\n",
       "      <th>0</th>\n",
       "      <td>id_0</td>\n",
       "      <td>Paris</td>\n",
       "      <td>['Bar', 'Pub']</td>\n",
       "      <td>12963.0</td>\n",
       "      <td>$$ - $$$</td>\n",
       "      <td>4.0</td>\n",
       "      <td>[[], []]</td>\n",
       "      <td>/Restaurant_Review-g187147-d10746918-Reviews-L...</td>\n",
       "      <td>d10746918</td>\n",
       "    </tr>\n",
       "    <tr>\n",
       "      <th>1</th>\n",
       "      <td>id_1</td>\n",
       "      <td>Helsinki</td>\n",
       "      <td>['European', 'Scandinavian', 'Gluten Free Opti...</td>\n",
       "      <td>106.0</td>\n",
       "      <td>$$ - $$$</td>\n",
       "      <td>97.0</td>\n",
       "      <td>[['Very good reviews!', 'Fine dining in Hakani...</td>\n",
       "      <td>/Restaurant_Review-g189934-d6674944-Reviews-Ra...</td>\n",
       "      <td>d6674944</td>\n",
       "    </tr>\n",
       "    <tr>\n",
       "      <th>2</th>\n",
       "      <td>id_2</td>\n",
       "      <td>Edinburgh</td>\n",
       "      <td>['Vegetarian Friendly']</td>\n",
       "      <td>810.0</td>\n",
       "      <td>$$ - $$$</td>\n",
       "      <td>28.0</td>\n",
       "      <td>[['Better than the Links', 'Ivy Black'], ['12/...</td>\n",
       "      <td>/Restaurant_Review-g186525-d13129638-Reviews-B...</td>\n",
       "      <td>d13129638</td>\n",
       "    </tr>\n",
       "    <tr>\n",
       "      <th>3</th>\n",
       "      <td>id_3</td>\n",
       "      <td>London</td>\n",
       "      <td>['Italian', 'Mediterranean', 'European', 'Vege...</td>\n",
       "      <td>1669.0</td>\n",
       "      <td>$$$$</td>\n",
       "      <td>202.0</td>\n",
       "      <td>[['Most exquisite', 'Delicious and authentic']...</td>\n",
       "      <td>/Restaurant_Review-g186338-d680417-Reviews-Qui...</td>\n",
       "      <td>d680417</td>\n",
       "    </tr>\n",
       "    <tr>\n",
       "      <th>4</th>\n",
       "      <td>id_4</td>\n",
       "      <td>Bratislava</td>\n",
       "      <td>['Italian', 'Mediterranean', 'European', 'Seaf...</td>\n",
       "      <td>37.0</td>\n",
       "      <td>$$$$</td>\n",
       "      <td>162.0</td>\n",
       "      <td>[['Always the best in bratislava', 'Very good ...</td>\n",
       "      <td>/Restaurant_Review-g274924-d1112354-Reviews-Ma...</td>\n",
       "      <td>d1112354</td>\n",
       "    </tr>\n",
       "  </tbody>\n",
       "</table>\n",
       "</div>"
      ],
      "text/plain": [
       "  Restaurant_id        City  \\\n",
       "0          id_0       Paris   \n",
       "1          id_1    Helsinki   \n",
       "2          id_2   Edinburgh   \n",
       "3          id_3      London   \n",
       "4          id_4  Bratislava   \n",
       "\n",
       "                                       Cuisine Style  Ranking Price Range  \\\n",
       "0                                     ['Bar', 'Pub']  12963.0    $$ - $$$   \n",
       "1  ['European', 'Scandinavian', 'Gluten Free Opti...    106.0    $$ - $$$   \n",
       "2                            ['Vegetarian Friendly']    810.0    $$ - $$$   \n",
       "3  ['Italian', 'Mediterranean', 'European', 'Vege...   1669.0        $$$$   \n",
       "4  ['Italian', 'Mediterranean', 'European', 'Seaf...     37.0        $$$$   \n",
       "\n",
       "   Number of Reviews                                            Reviews  \\\n",
       "0                4.0                                           [[], []]   \n",
       "1               97.0  [['Very good reviews!', 'Fine dining in Hakani...   \n",
       "2               28.0  [['Better than the Links', 'Ivy Black'], ['12/...   \n",
       "3              202.0  [['Most exquisite', 'Delicious and authentic']...   \n",
       "4              162.0  [['Always the best in bratislava', 'Very good ...   \n",
       "\n",
       "                                              URL_TA      ID_TA  \n",
       "0  /Restaurant_Review-g187147-d10746918-Reviews-L...  d10746918  \n",
       "1  /Restaurant_Review-g189934-d6674944-Reviews-Ra...   d6674944  \n",
       "2  /Restaurant_Review-g186525-d13129638-Reviews-B...  d13129638  \n",
       "3  /Restaurant_Review-g186338-d680417-Reviews-Qui...    d680417  \n",
       "4  /Restaurant_Review-g274924-d1112354-Reviews-Ma...   d1112354  "
      ]
     },
     "metadata": {},
     "output_type": "display_data"
    },
    {
     "name": "stdout",
     "output_type": "stream",
     "text": [
      "<class 'pandas.core.frame.DataFrame'>\n",
      "RangeIndex: 10000 entries, 0 to 9999\n",
      "Data columns (total 9 columns):\n",
      " #   Column             Non-Null Count  Dtype  \n",
      "---  ------             --------------  -----  \n",
      " 0   Restaurant_id      10000 non-null  object \n",
      " 1   City               10000 non-null  object \n",
      " 2   Cuisine Style      7693 non-null   object \n",
      " 3   Ranking            10000 non-null  float64\n",
      " 4   Price Range        6525 non-null   object \n",
      " 5   Number of Reviews  9343 non-null   float64\n",
      " 6   Reviews            9998 non-null   object \n",
      " 7   URL_TA             10000 non-null  object \n",
      " 8   ID_TA              10000 non-null  object \n",
      "dtypes: float64(2), object(7)\n",
      "memory usage: 703.2+ KB\n"
     ]
    },
    {
     "data": {
      "text/plain": [
       "None"
      ]
     },
     "metadata": {},
     "output_type": "display_data"
    },
    {
     "data": {
      "text/html": [
       "<div>\n",
       "<style scoped>\n",
       "    .dataframe tbody tr th:only-of-type {\n",
       "        vertical-align: middle;\n",
       "    }\n",
       "\n",
       "    .dataframe tbody tr th {\n",
       "        vertical-align: top;\n",
       "    }\n",
       "\n",
       "    .dataframe thead th {\n",
       "        text-align: right;\n",
       "    }\n",
       "</style>\n",
       "<table border=\"1\" class=\"dataframe\">\n",
       "  <thead>\n",
       "    <tr style=\"text-align: right;\">\n",
       "      <th></th>\n",
       "      <th>Ranking</th>\n",
       "      <th>Number of Reviews</th>\n",
       "    </tr>\n",
       "  </thead>\n",
       "  <tbody>\n",
       "    <tr>\n",
       "      <th>count</th>\n",
       "      <td>10000.000000</td>\n",
       "      <td>9343.000000</td>\n",
       "    </tr>\n",
       "    <tr>\n",
       "      <th>mean</th>\n",
       "      <td>3618.023500</td>\n",
       "      <td>123.050840</td>\n",
       "    </tr>\n",
       "    <tr>\n",
       "      <th>std</th>\n",
       "      <td>3665.076451</td>\n",
       "      <td>287.819368</td>\n",
       "    </tr>\n",
       "    <tr>\n",
       "      <th>min</th>\n",
       "      <td>2.000000</td>\n",
       "      <td>2.000000</td>\n",
       "    </tr>\n",
       "    <tr>\n",
       "      <th>25%</th>\n",
       "      <td>966.000000</td>\n",
       "      <td>9.000000</td>\n",
       "    </tr>\n",
       "    <tr>\n",
       "      <th>50%</th>\n",
       "      <td>2257.000000</td>\n",
       "      <td>32.000000</td>\n",
       "    </tr>\n",
       "    <tr>\n",
       "      <th>75%</th>\n",
       "      <td>5137.000000</td>\n",
       "      <td>114.000000</td>\n",
       "    </tr>\n",
       "    <tr>\n",
       "      <th>max</th>\n",
       "      <td>16443.000000</td>\n",
       "      <td>6437.000000</td>\n",
       "    </tr>\n",
       "  </tbody>\n",
       "</table>\n",
       "</div>"
      ],
      "text/plain": [
       "            Ranking  Number of Reviews\n",
       "count  10000.000000        9343.000000\n",
       "mean    3618.023500         123.050840\n",
       "std     3665.076451         287.819368\n",
       "min        2.000000           2.000000\n",
       "25%      966.000000           9.000000\n",
       "50%     2257.000000          32.000000\n",
       "75%     5137.000000         114.000000\n",
       "max    16443.000000        6437.000000"
      ]
     },
     "metadata": {},
     "output_type": "display_data"
    },
    {
     "data": {
      "text/html": [
       "<div>\n",
       "<style scoped>\n",
       "    .dataframe tbody tr th:only-of-type {\n",
       "        vertical-align: middle;\n",
       "    }\n",
       "\n",
       "    .dataframe tbody tr th {\n",
       "        vertical-align: top;\n",
       "    }\n",
       "\n",
       "    .dataframe thead th {\n",
       "        text-align: right;\n",
       "    }\n",
       "</style>\n",
       "<table border=\"1\" class=\"dataframe\">\n",
       "  <thead>\n",
       "    <tr style=\"text-align: right;\">\n",
       "      <th></th>\n",
       "      <th>Restaurant_id</th>\n",
       "      <th>Rating</th>\n",
       "    </tr>\n",
       "  </thead>\n",
       "  <tbody>\n",
       "    <tr>\n",
       "      <th>0</th>\n",
       "      <td>id_0</td>\n",
       "      <td>2.0</td>\n",
       "    </tr>\n",
       "    <tr>\n",
       "      <th>1</th>\n",
       "      <td>id_1</td>\n",
       "      <td>2.5</td>\n",
       "    </tr>\n",
       "    <tr>\n",
       "      <th>2</th>\n",
       "      <td>id_2</td>\n",
       "      <td>4.0</td>\n",
       "    </tr>\n",
       "    <tr>\n",
       "      <th>3</th>\n",
       "      <td>id_3</td>\n",
       "      <td>1.0</td>\n",
       "    </tr>\n",
       "    <tr>\n",
       "      <th>4</th>\n",
       "      <td>id_4</td>\n",
       "      <td>4.0</td>\n",
       "    </tr>\n",
       "  </tbody>\n",
       "</table>\n",
       "</div>"
      ],
      "text/plain": [
       "  Restaurant_id  Rating\n",
       "0          id_0     2.0\n",
       "1          id_1     2.5\n",
       "2          id_2     4.0\n",
       "3          id_3     1.0\n",
       "4          id_4     4.0"
      ]
     },
     "metadata": {},
     "output_type": "display_data"
    },
    {
     "name": "stdout",
     "output_type": "stream",
     "text": [
      "<class 'pandas.core.frame.DataFrame'>\n",
      "RangeIndex: 10000 entries, 0 to 9999\n",
      "Data columns (total 2 columns):\n",
      " #   Column         Non-Null Count  Dtype  \n",
      "---  ------         --------------  -----  \n",
      " 0   Restaurant_id  10000 non-null  object \n",
      " 1   Rating         10000 non-null  float64\n",
      "dtypes: float64(1), object(1)\n",
      "memory usage: 156.4+ KB\n"
     ]
    },
    {
     "data": {
      "text/plain": [
       "None"
      ]
     },
     "metadata": {},
     "output_type": "display_data"
    },
    {
     "data": {
      "text/html": [
       "<div>\n",
       "<style scoped>\n",
       "    .dataframe tbody tr th:only-of-type {\n",
       "        vertical-align: middle;\n",
       "    }\n",
       "\n",
       "    .dataframe tbody tr th {\n",
       "        vertical-align: top;\n",
       "    }\n",
       "\n",
       "    .dataframe thead th {\n",
       "        text-align: right;\n",
       "    }\n",
       "</style>\n",
       "<table border=\"1\" class=\"dataframe\">\n",
       "  <thead>\n",
       "    <tr style=\"text-align: right;\">\n",
       "      <th></th>\n",
       "      <th>Rating</th>\n",
       "    </tr>\n",
       "  </thead>\n",
       "  <tbody>\n",
       "    <tr>\n",
       "      <th>count</th>\n",
       "      <td>10000.000000</td>\n",
       "    </tr>\n",
       "    <tr>\n",
       "      <th>mean</th>\n",
       "      <td>3.002600</td>\n",
       "    </tr>\n",
       "    <tr>\n",
       "      <th>std</th>\n",
       "      <td>1.287579</td>\n",
       "    </tr>\n",
       "    <tr>\n",
       "      <th>min</th>\n",
       "      <td>1.000000</td>\n",
       "    </tr>\n",
       "    <tr>\n",
       "      <th>25%</th>\n",
       "      <td>2.000000</td>\n",
       "    </tr>\n",
       "    <tr>\n",
       "      <th>50%</th>\n",
       "      <td>3.000000</td>\n",
       "    </tr>\n",
       "    <tr>\n",
       "      <th>75%</th>\n",
       "      <td>4.000000</td>\n",
       "    </tr>\n",
       "    <tr>\n",
       "      <th>max</th>\n",
       "      <td>5.000000</td>\n",
       "    </tr>\n",
       "  </tbody>\n",
       "</table>\n",
       "</div>"
      ],
      "text/plain": [
       "             Rating\n",
       "count  10000.000000\n",
       "mean       3.002600\n",
       "std        1.287579\n",
       "min        1.000000\n",
       "25%        2.000000\n",
       "50%        3.000000\n",
       "75%        4.000000\n",
       "max        5.000000"
      ]
     },
     "metadata": {},
     "output_type": "display_data"
    }
   ],
   "source": [
    "# Импортируем данные и сложим в список, чтобы удобнее их была анализировать при необходимости\n",
    "df_train = pd.read_csv(r'C:\\Users\\user\\Desktop\\RF_project\\data\\main_task.csv')\n",
    "df_test = pd.read_csv(r'C:\\Users\\user\\Desktop\\RF_project\\data\\kaggle_task.csv')\n",
    "sample_submission = pd.read_csv(r'C:\\Users\\user\\Desktop\\RF_project\\data\\sample_submission.csv')\n",
    "data_list = [df_train, df_test, sample_submission]\n",
    "for data in data_list:\n",
    "\tdisplay(data.head(5))\n",
    "\tdisplay(data.info())\n",
    "\tdisplay(data.describe())"
   ]
  },
  {
   "cell_type": "markdown",
   "metadata": {},
   "source": [
    "Основные фичи - это:\n",
    "* City: Город\n",
    "* Cuisine Style: Кухня\n",
    "* Ranking: Ранг ресторана относительно других ресторанов в этом городе\n",
    "* Price Range: Цены в ресторане в 3 категориях\n",
    "* Number of Reviews: Количество отзывов\n",
    "* Reviews: 2 последних отзыва и даты этих отзывов\n",
    "* URL_TA: страница ресторана на 'www.tripadvisor.com'\n",
    "* ID_TA: ID ресторана в TripAdvisor\n",
    "* Rating: Рейтинг ресторана"
   ]
  },
  {
   "cell_type": "code",
   "execution_count": 358,
   "metadata": {},
   "outputs": [],
   "source": [
    "# в тестовой выборке нет рейтинга, этого и нужно нам предсказать - целевая переменная! Всего 8 фичей, посмотрим, все ли они будут нам полезны\n",
    "# для корректной обработки всех признаков объеденим два дата сета, но с пометками\n",
    "df_test['sample'] = 0\n",
    "df_train['sample'] = 1\n",
    "df_test['Rating'] = 0 # в тесте нет Rating, поэтому пока проставим нулями\n",
    "data = df_test.append(df_train, sort=False).reset_index(drop=True)\n"
   ]
  },
  {
   "cell_type": "markdown",
   "metadata": {},
   "source": [
    "# 1. Изучение данных, выявление NaN и обработка\n",
    "* пробегаемся по каждой фиче, смотрим, чистим"
   ]
  },
  {
   "cell_type": "code",
   "execution_count": 359,
   "metadata": {},
   "outputs": [
    {
     "data": {
      "text/plain": [
       "Text(0.5, 1.0, 'Диаграмма 1 Пропущенные значения по фичам')"
      ]
     },
     "execution_count": 359,
     "metadata": {},
     "output_type": "execute_result"
    },
    {
     "data": {
      "image/png": "[encoded data removed]",
      "text/plain": [
       "<Figure size 432x288 with 2 Axes>"
      ]
     },
     "metadata": {
      "needs_background": "light"
     },
     "output_type": "display_data"
    }
   ],
   "source": [
    "# как дела у нас в целом\n",
    "sns.heatmap(data.isnull(), cmap = 'summer')\n",
    "plt.title('Диаграмма 1 Пропущенные значения по фичам')"
   ]
  },
  {
   "cell_type": "markdown",
   "metadata": {},
   "source": [
    "Основные пропуски у нас по 'Cuisine Style', 'Price Range', 'Number of Reviews' и 'Reviews'"
   ]
  },
  {
   "cell_type": "code",
   "execution_count": 360,
   "metadata": {},
   "outputs": [
    {
     "name": "stdout",
     "output_type": "stream",
     "text": [
      "Количество пропусков\n",
      " Restaurant_id            0\n",
      "City                     0\n",
      "Cuisine Style        11590\n",
      "Ranking                  0\n",
      "Price Range          17361\n",
      "Number of Reviews     3200\n",
      "Reviews                  2\n",
      "URL_TA                   0\n",
      "ID_TA                    0\n",
      "sample                   0\n",
      "Rating                   0\n",
      "dtype: int64\n",
      "Количество уникальных значений\n",
      " Restaurant_id        13094\n",
      "City                    31\n",
      "Cuisine Style        10731\n",
      "Ranking              12975\n",
      "Price Range              3\n",
      "Number of Reviews     1573\n",
      "Reviews              41857\n",
      "URL_TA               49963\n",
      "ID_TA                49963\n",
      "sample                   2\n",
      "Rating                  10\n",
      "dtype: int64\n",
      "Количество уникальных значений в тестовой выборке\n",
      " Restaurant_id        10000\n",
      "City                    31\n",
      "Cuisine Style         3128\n",
      "Ranking               5914\n",
      "Price Range              3\n",
      "Number of Reviews      868\n",
      "Reviews               8358\n",
      "URL_TA               10000\n",
      "ID_TA                10000\n",
      "sample                   1\n",
      "Rating                   1\n",
      "dtype: int64\n"
     ]
    }
   ],
   "source": [
    "# Пробежимся по числам\n",
    "print(\"Количество пропусков\\n\", data.isna().sum())\n",
    "print(\"Количество уникальных значений\\n\", data.nunique())\n",
    "print(\"Количество уникальных значений в тестовой выборке\\n\", df_test.nunique())"
   ]
  },
  {
   "cell_type": "markdown",
   "metadata": {},
   "source": [
    "## Проанализируем каждую фичу отдельно\n",
    "\n",
    "1. Restaurant_id\n",
    "\n",
    "Начнем с Restaurant_id Пропусков нет. 13094 уникальных значений для 50000 строк тренировочной выборки. В тестовой выборке все значения уникальны."
   ]
  },
  {
   "cell_type": "code",
   "execution_count": 361,
   "metadata": {},
   "outputs": [
    {
     "data": {
      "text/plain": [
       "id_227      19\n",
       "id_633      19\n",
       "id_436      19\n",
       "id_871      19\n",
       "id_585      18\n",
       "            ..\n",
       "id_14655     1\n",
       "id_14405     1\n",
       "id_15809     1\n",
       "id_14855     1\n",
       "id_11658     1\n",
       "Name: Restaurant_id, Length: 13094, dtype: int64"
      ]
     },
     "execution_count": 361,
     "metadata": {},
     "output_type": "execute_result"
    }
   ],
   "source": [
    "data.Restaurant_id.value_counts()"
   ]
  },
  {
   "cell_type": "code",
   "execution_count": 362,
   "metadata": {},
   "outputs": [
    {
     "data": {
      "text/plain": [
       "id_0       1\n",
       "id_6670    1\n",
       "id_6663    1\n",
       "id_6664    1\n",
       "id_6665    1\n",
       "          ..\n",
       "id_3333    1\n",
       "id_3334    1\n",
       "id_3335    1\n",
       "id_3336    1\n",
       "id_9999    1\n",
       "Name: Restaurant_id, Length: 10000, dtype: int64"
      ]
     },
     "execution_count": 362,
     "metadata": {},
     "output_type": "execute_result"
    }
   ],
   "source": [
    "data[data['Rating'] ==0]['Restaurant_id'].value_counts() # здесь все уникальные значения, значит проблема в трайне"
   ]
  },
  {
   "cell_type": "code",
   "execution_count": 363,
   "metadata": {},
   "outputs": [
    {
     "data": {
      "text/html": [
       "<div>\n",
       "<style scoped>\n",
       "    .dataframe tbody tr th:only-of-type {\n",
       "        vertical-align: middle;\n",
       "    }\n",
       "\n",
       "    .dataframe tbody tr th {\n",
       "        vertical-align: top;\n",
       "    }\n",
       "\n",
       "    .dataframe thead th {\n",
       "        text-align: right;\n",
       "    }\n",
       "</style>\n",
       "<table border=\"1\" class=\"dataframe\">\n",
       "  <thead>\n",
       "    <tr style=\"text-align: right;\">\n",
       "      <th></th>\n",
       "      <th>Restaurant_id</th>\n",
       "      <th>City</th>\n",
       "      <th>Cuisine Style</th>\n",
       "      <th>Ranking</th>\n",
       "      <th>Price Range</th>\n",
       "      <th>Number of Reviews</th>\n",
       "      <th>Reviews</th>\n",
       "      <th>URL_TA</th>\n",
       "      <th>ID_TA</th>\n",
       "      <th>sample</th>\n",
       "      <th>Rating</th>\n",
       "    </tr>\n",
       "  </thead>\n",
       "  <tbody>\n",
       "    <tr>\n",
       "      <th>585</th>\n",
       "      <td>id_585</td>\n",
       "      <td>Paris</td>\n",
       "      <td>NaN</td>\n",
       "      <td>10563.0</td>\n",
       "      <td>NaN</td>\n",
       "      <td>5.0</td>\n",
       "      <td>[[], []]</td>\n",
       "      <td>/Restaurant_Review-g187147-d12411515-Reviews-P...</td>\n",
       "      <td>d12411515</td>\n",
       "      <td>0</td>\n",
       "      <td>0.0</td>\n",
       "    </tr>\n",
       "    <tr>\n",
       "      <th>12887</th>\n",
       "      <td>id_585</td>\n",
       "      <td>Amsterdam</td>\n",
       "      <td>['American', 'Bar', 'Pub', 'Barbecue']</td>\n",
       "      <td>586.0</td>\n",
       "      <td>$$ - $$$</td>\n",
       "      <td>116.0</td>\n",
       "      <td>[['Great wings and ribs - but not your usual.....</td>\n",
       "      <td>/Restaurant_Review-g188590-d7799470-Reviews-Sm...</td>\n",
       "      <td>d7799470</td>\n",
       "      <td>1</td>\n",
       "      <td>4.0</td>\n",
       "    </tr>\n",
       "    <tr>\n",
       "      <th>15557</th>\n",
       "      <td>id_585</td>\n",
       "      <td>Lyon</td>\n",
       "      <td>['French', 'Bar', 'European', 'Vegetarian Frie...</td>\n",
       "      <td>586.0</td>\n",
       "      <td>$$ - $$$</td>\n",
       "      <td>268.0</td>\n",
       "      <td>[['Nice lunch', 'Great value menu and very tas...</td>\n",
       "      <td>/Restaurant_Review-g187265-d4093687-Reviews-Le...</td>\n",
       "      <td>d4093687</td>\n",
       "      <td>1</td>\n",
       "      <td>4.0</td>\n",
       "    </tr>\n",
       "    <tr>\n",
       "      <th>15893</th>\n",
       "      <td>id_585</td>\n",
       "      <td>Oslo</td>\n",
       "      <td>['Vietnamese']</td>\n",
       "      <td>586.0</td>\n",
       "      <td>$$ - $$$</td>\n",
       "      <td>16.0</td>\n",
       "      <td>[['Intimate restaurant with excellent food (l....</td>\n",
       "      <td>/Restaurant_Review-g190479-d8707508-Reviews-Oe...</td>\n",
       "      <td>d8707508</td>\n",
       "      <td>1</td>\n",
       "      <td>4.0</td>\n",
       "    </tr>\n",
       "    <tr>\n",
       "      <th>19084</th>\n",
       "      <td>id_585</td>\n",
       "      <td>Munich</td>\n",
       "      <td>['Italian', 'Pizza', 'Mediterranean', 'Europea...</td>\n",
       "      <td>591.0</td>\n",
       "      <td>$$ - $$$</td>\n",
       "      <td>78.0</td>\n",
       "      <td>[['Lovely italian', 'Terrific food, authentic ...</td>\n",
       "      <td>/Restaurant_Review-g187309-d2043121-Reviews-Il...</td>\n",
       "      <td>d2043121</td>\n",
       "      <td>1</td>\n",
       "      <td>4.0</td>\n",
       "    </tr>\n",
       "    <tr>\n",
       "      <th>23168</th>\n",
       "      <td>id_585</td>\n",
       "      <td>Edinburgh</td>\n",
       "      <td>['Bar', 'Pizza', 'British', 'Vegetarian Friend...</td>\n",
       "      <td>586.0</td>\n",
       "      <td>$$ - $$$</td>\n",
       "      <td>306.0</td>\n",
       "      <td>[['Buckstone Regulars Christmas Lunch', 'Very ...</td>\n",
       "      <td>/Restaurant_Review-g186525-d1127301-Reviews-Ch...</td>\n",
       "      <td>d1127301</td>\n",
       "      <td>1</td>\n",
       "      <td>4.0</td>\n",
       "    </tr>\n",
       "    <tr>\n",
       "      <th>25868</th>\n",
       "      <td>id_585</td>\n",
       "      <td>Stockholm</td>\n",
       "      <td>['Seafood', 'Swedish']</td>\n",
       "      <td>586.0</td>\n",
       "      <td>$$$$</td>\n",
       "      <td>85.0</td>\n",
       "      <td>[['Very disappointed...', 'Great place!'], ['1...</td>\n",
       "      <td>/Restaurant_Review-g189852-d2072805-Reviews-Oy...</td>\n",
       "      <td>d2072805</td>\n",
       "      <td>1</td>\n",
       "      <td>4.0</td>\n",
       "    </tr>\n",
       "    <tr>\n",
       "      <th>29493</th>\n",
       "      <td>id_585</td>\n",
       "      <td>London</td>\n",
       "      <td>['Italian', 'Mediterranean', 'European', 'Vege...</td>\n",
       "      <td>586.0</td>\n",
       "      <td>$$ - $$$</td>\n",
       "      <td>820.0</td>\n",
       "      <td>[['DINNER', 'Good decent food.'], ['12/13/2017...</td>\n",
       "      <td>/Restaurant_Review-g186338-d1389702-Reviews-Ol...</td>\n",
       "      <td>d1389702</td>\n",
       "      <td>1</td>\n",
       "      <td>4.0</td>\n",
       "    </tr>\n",
       "    <tr>\n",
       "      <th>30131</th>\n",
       "      <td>id_585</td>\n",
       "      <td>Vienna</td>\n",
       "      <td>NaN</td>\n",
       "      <td>586.0</td>\n",
       "      <td>NaN</td>\n",
       "      <td>30.0</td>\n",
       "      <td>[['Unique experience', 'All inclusive experien...</td>\n",
       "      <td>/Restaurant_Review-g190454-d1857535-Reviews-Vi...</td>\n",
       "      <td>d1857535</td>\n",
       "      <td>1</td>\n",
       "      <td>5.0</td>\n",
       "    </tr>\n",
       "    <tr>\n",
       "      <th>30311</th>\n",
       "      <td>id_585</td>\n",
       "      <td>Warsaw</td>\n",
       "      <td>['Chinese', 'Asian', 'Vegetarian Friendly']</td>\n",
       "      <td>586.0</td>\n",
       "      <td>$$$$</td>\n",
       "      <td>24.0</td>\n",
       "      <td>[['A chinese feast', 'High End Spicy Chinese']...</td>\n",
       "      <td>/Restaurant_Review-g274856-d12187950-Reviews-P...</td>\n",
       "      <td>d12187950</td>\n",
       "      <td>1</td>\n",
       "      <td>4.0</td>\n",
       "    </tr>\n",
       "    <tr>\n",
       "      <th>32022</th>\n",
       "      <td>id_585</td>\n",
       "      <td>Krakow</td>\n",
       "      <td>['American', 'Mediterranean', 'European', 'Gri...</td>\n",
       "      <td>586.0</td>\n",
       "      <td>$$ - $$$</td>\n",
       "      <td>11.0</td>\n",
       "      <td>[['Familytrip', 'Great steakhouse'], ['10/29/2...</td>\n",
       "      <td>/Restaurant_Review-g274772-d10693510-Reviews-B...</td>\n",
       "      <td>d10693510</td>\n",
       "      <td>1</td>\n",
       "      <td>5.0</td>\n",
       "    </tr>\n",
       "    <tr>\n",
       "      <th>34535</th>\n",
       "      <td>id_585</td>\n",
       "      <td>Dublin</td>\n",
       "      <td>['Lebanese', 'Middle Eastern', 'Mediterranean'...</td>\n",
       "      <td>586.0</td>\n",
       "      <td>$$ - $$$</td>\n",
       "      <td>148.0</td>\n",
       "      <td>[[\"It's consistently good\", 'Good libaneese fo...</td>\n",
       "      <td>/Restaurant_Review-g186605-d1152010-Reviews-Ro...</td>\n",
       "      <td>d1152010</td>\n",
       "      <td>1</td>\n",
       "      <td>4.0</td>\n",
       "    </tr>\n",
       "    <tr>\n",
       "      <th>37337</th>\n",
       "      <td>id_585</td>\n",
       "      <td>Bratislava</td>\n",
       "      <td>NaN</td>\n",
       "      <td>586.0</td>\n",
       "      <td>NaN</td>\n",
       "      <td>2.0</td>\n",
       "      <td>[[], []]</td>\n",
       "      <td>/Restaurant_Review-g274924-d4769824-Reviews-Sl...</td>\n",
       "      <td>d4769824</td>\n",
       "      <td>1</td>\n",
       "      <td>3.0</td>\n",
       "    </tr>\n",
       "    <tr>\n",
       "      <th>38650</th>\n",
       "      <td>id_585</td>\n",
       "      <td>Zurich</td>\n",
       "      <td>['Italian', 'Mediterranean']</td>\n",
       "      <td>588.0</td>\n",
       "      <td>$$ - $$$</td>\n",
       "      <td>55.0</td>\n",
       "      <td>[['Nice concept', 'Faultless food, presentatio...</td>\n",
       "      <td>/Restaurant_Review-g188113-d6864965-Reviews-Os...</td>\n",
       "      <td>d6864965</td>\n",
       "      <td>1</td>\n",
       "      <td>4.0</td>\n",
       "    </tr>\n",
       "    <tr>\n",
       "      <th>43456</th>\n",
       "      <td>id_585</td>\n",
       "      <td>Athens</td>\n",
       "      <td>['Mediterranean', 'Vegetarian Friendly']</td>\n",
       "      <td>586.0</td>\n",
       "      <td>$</td>\n",
       "      <td>12.0</td>\n",
       "      <td>[['Healthy and tasty', 'Vegan food to die for!...</td>\n",
       "      <td>/Restaurant_Review-g189400-d12433854-Reviews-H...</td>\n",
       "      <td>d12433854</td>\n",
       "      <td>1</td>\n",
       "      <td>4.5</td>\n",
       "    </tr>\n",
       "    <tr>\n",
       "      <th>43710</th>\n",
       "      <td>id_585</td>\n",
       "      <td>Helsinki</td>\n",
       "      <td>NaN</td>\n",
       "      <td>586.0</td>\n",
       "      <td>NaN</td>\n",
       "      <td>4.0</td>\n",
       "      <td>[['A lunch in a bank vault!', 'A bit hidden pl...</td>\n",
       "      <td>/Restaurant_Review-g189934-d1382832-Reviews-WT...</td>\n",
       "      <td>d1382832</td>\n",
       "      <td>1</td>\n",
       "      <td>5.0</td>\n",
       "    </tr>\n",
       "    <tr>\n",
       "      <th>45141</th>\n",
       "      <td>id_585</td>\n",
       "      <td>Oporto</td>\n",
       "      <td>NaN</td>\n",
       "      <td>586.0</td>\n",
       "      <td>NaN</td>\n",
       "      <td>43.0</td>\n",
       "      <td>[['Really authentic', 'Traditional, local rest...</td>\n",
       "      <td>/Restaurant_Review-g189180-d2692165-Reviews-O_...</td>\n",
       "      <td>d2692165</td>\n",
       "      <td>1</td>\n",
       "      <td>4.0</td>\n",
       "    </tr>\n",
       "    <tr>\n",
       "      <th>45481</th>\n",
       "      <td>id_585</td>\n",
       "      <td>Madrid</td>\n",
       "      <td>['Mediterranean', 'European', 'Spanish', 'Vege...</td>\n",
       "      <td>586.0</td>\n",
       "      <td>$$$$</td>\n",
       "      <td>193.0</td>\n",
       "      <td>[['Little gem!', 'On its way to a Michelin sta...</td>\n",
       "      <td>/Restaurant_Review-g187514-d3396697-Reviews-Se...</td>\n",
       "      <td>d3396697</td>\n",
       "      <td>1</td>\n",
       "      <td>4.5</td>\n",
       "    </tr>\n",
       "  </tbody>\n",
       "</table>\n",
       "</div>"
      ],
      "text/plain": [
       "      Restaurant_id        City  \\\n",
       "585          id_585       Paris   \n",
       "12887        id_585   Amsterdam   \n",
       "15557        id_585        Lyon   \n",
       "15893        id_585        Oslo   \n",
       "19084        id_585      Munich   \n",
       "23168        id_585   Edinburgh   \n",
       "25868        id_585   Stockholm   \n",
       "29493        id_585      London   \n",
       "30131        id_585      Vienna   \n",
       "30311        id_585      Warsaw   \n",
       "32022        id_585      Krakow   \n",
       "34535        id_585      Dublin   \n",
       "37337        id_585  Bratislava   \n",
       "38650        id_585      Zurich   \n",
       "43456        id_585      Athens   \n",
       "43710        id_585    Helsinki   \n",
       "45141        id_585      Oporto   \n",
       "45481        id_585      Madrid   \n",
       "\n",
       "                                           Cuisine Style  Ranking Price Range  \\\n",
       "585                                                  NaN  10563.0         NaN   \n",
       "12887             ['American', 'Bar', 'Pub', 'Barbecue']    586.0    $$ - $$$   \n",
       "15557  ['French', 'Bar', 'European', 'Vegetarian Frie...    586.0    $$ - $$$   \n",
       "15893                                     ['Vietnamese']    586.0    $$ - $$$   \n",
       "19084  ['Italian', 'Pizza', 'Mediterranean', 'Europea...    591.0    $$ - $$$   \n",
       "23168  ['Bar', 'Pizza', 'British', 'Vegetarian Friend...    586.0    $$ - $$$   \n",
       "25868                             ['Seafood', 'Swedish']    586.0        $$$$   \n",
       "29493  ['Italian', 'Mediterranean', 'European', 'Vege...    586.0    $$ - $$$   \n",
       "30131                                                NaN    586.0         NaN   \n",
       "30311        ['Chinese', 'Asian', 'Vegetarian Friendly']    586.0        $$$$   \n",
       "32022  ['American', 'Mediterranean', 'European', 'Gri...    586.0    $$ - $$$   \n",
       "34535  ['Lebanese', 'Middle Eastern', 'Mediterranean'...    586.0    $$ - $$$   \n",
       "37337                                                NaN    586.0         NaN   \n",
       "38650                       ['Italian', 'Mediterranean']    588.0    $$ - $$$   \n",
       "43456           ['Mediterranean', 'Vegetarian Friendly']    586.0           $   \n",
       "43710                                                NaN    586.0         NaN   \n",
       "45141                                                NaN    586.0         NaN   \n",
       "45481  ['Mediterranean', 'European', 'Spanish', 'Vege...    586.0        $$$$   \n",
       "\n",
       "       Number of Reviews                                            Reviews  \\\n",
       "585                  5.0                                           [[], []]   \n",
       "12887              116.0  [['Great wings and ribs - but not your usual.....   \n",
       "15557              268.0  [['Nice lunch', 'Great value menu and very tas...   \n",
       "15893               16.0  [['Intimate restaurant with excellent food (l....   \n",
       "19084               78.0  [['Lovely italian', 'Terrific food, authentic ...   \n",
       "23168              306.0  [['Buckstone Regulars Christmas Lunch', 'Very ...   \n",
       "25868               85.0  [['Very disappointed...', 'Great place!'], ['1...   \n",
       "29493              820.0  [['DINNER', 'Good decent food.'], ['12/13/2017...   \n",
       "30131               30.0  [['Unique experience', 'All inclusive experien...   \n",
       "30311               24.0  [['A chinese feast', 'High End Spicy Chinese']...   \n",
       "32022               11.0  [['Familytrip', 'Great steakhouse'], ['10/29/2...   \n",
       "34535              148.0  [[\"It's consistently good\", 'Good libaneese fo...   \n",
       "37337                2.0                                           [[], []]   \n",
       "38650               55.0  [['Nice concept', 'Faultless food, presentatio...   \n",
       "43456               12.0  [['Healthy and tasty', 'Vegan food to die for!...   \n",
       "43710                4.0  [['A lunch in a bank vault!', 'A bit hidden pl...   \n",
       "45141               43.0  [['Really authentic', 'Traditional, local rest...   \n",
       "45481              193.0  [['Little gem!', 'On its way to a Michelin sta...   \n",
       "\n",
       "                                                  URL_TA      ID_TA  sample  \\\n",
       "585    /Restaurant_Review-g187147-d12411515-Reviews-P...  d12411515       0   \n",
       "12887  /Restaurant_Review-g188590-d7799470-Reviews-Sm...   d7799470       1   \n",
       "15557  /Restaurant_Review-g187265-d4093687-Reviews-Le...   d4093687       1   \n",
       "15893  /Restaurant_Review-g190479-d8707508-Reviews-Oe...   d8707508       1   \n",
       "19084  /Restaurant_Review-g187309-d2043121-Reviews-Il...   d2043121       1   \n",
       "23168  /Restaurant_Review-g186525-d1127301-Reviews-Ch...   d1127301       1   \n",
       "25868  /Restaurant_Review-g189852-d2072805-Reviews-Oy...   d2072805       1   \n",
       "29493  /Restaurant_Review-g186338-d1389702-Reviews-Ol...   d1389702       1   \n",
       "30131  /Restaurant_Review-g190454-d1857535-Reviews-Vi...   d1857535       1   \n",
       "30311  /Restaurant_Review-g274856-d12187950-Reviews-P...  d12187950       1   \n",
       "32022  /Restaurant_Review-g274772-d10693510-Reviews-B...  d10693510       1   \n",
       "34535  /Restaurant_Review-g186605-d1152010-Reviews-Ro...   d1152010       1   \n",
       "37337  /Restaurant_Review-g274924-d4769824-Reviews-Sl...   d4769824       1   \n",
       "38650  /Restaurant_Review-g188113-d6864965-Reviews-Os...   d6864965       1   \n",
       "43456  /Restaurant_Review-g189400-d12433854-Reviews-H...  d12433854       1   \n",
       "43710  /Restaurant_Review-g189934-d1382832-Reviews-WT...   d1382832       1   \n",
       "45141  /Restaurant_Review-g189180-d2692165-Reviews-O_...   d2692165       1   \n",
       "45481  /Restaurant_Review-g187514-d3396697-Reviews-Se...   d3396697       1   \n",
       "\n",
       "       Rating  \n",
       "585       0.0  \n",
       "12887     4.0  \n",
       "15557     4.0  \n",
       "15893     4.0  \n",
       "19084     4.0  \n",
       "23168     4.0  \n",
       "25868     4.0  \n",
       "29493     4.0  \n",
       "30131     5.0  \n",
       "30311     4.0  \n",
       "32022     5.0  \n",
       "34535     4.0  \n",
       "37337     3.0  \n",
       "38650     4.0  \n",
       "43456     4.5  \n",
       "43710     5.0  \n",
       "45141     4.0  \n",
       "45481     4.5  "
      ]
     },
     "execution_count": 363,
     "metadata": {},
     "output_type": "execute_result"
    }
   ],
   "source": [
    "# Посмотрим как они выглядят\n",
    "data[data['Restaurant_id'] == 'id_585']"
   ]
  },
  {
   "cell_type": "markdown",
   "metadata": {},
   "source": [
    "Это может быть сетевые рестораны, но предлагаемые кухни и цены сильно отличаются, тем не менее id совпадает с Ranking, поэтому переведем этот признак в численный формат и посмотрим корреляцию"
   ]
  },
  {
   "cell_type": "code",
   "execution_count": 364,
   "metadata": {},
   "outputs": [
    {
     "data": {
      "text/html": [
       "<div>\n",
       "<style scoped>\n",
       "    .dataframe tbody tr th:only-of-type {\n",
       "        vertical-align: middle;\n",
       "    }\n",
       "\n",
       "    .dataframe tbody tr th {\n",
       "        vertical-align: top;\n",
       "    }\n",
       "\n",
       "    .dataframe thead th {\n",
       "        text-align: right;\n",
       "    }\n",
       "</style>\n",
       "<table border=\"1\" class=\"dataframe\">\n",
       "  <thead>\n",
       "    <tr style=\"text-align: right;\">\n",
       "      <th></th>\n",
       "      <th>Int_res_id</th>\n",
       "      <th>Ranking</th>\n",
       "    </tr>\n",
       "  </thead>\n",
       "  <tbody>\n",
       "    <tr>\n",
       "      <th>Int_res_id</th>\n",
       "      <td>1.00000</td>\n",
       "      <td>0.82509</td>\n",
       "    </tr>\n",
       "    <tr>\n",
       "      <th>Ranking</th>\n",
       "      <td>0.82509</td>\n",
       "      <td>1.00000</td>\n",
       "    </tr>\n",
       "  </tbody>\n",
       "</table>\n",
       "</div>"
      ],
      "text/plain": [
       "            Int_res_id  Ranking\n",
       "Int_res_id     1.00000  0.82509\n",
       "Ranking        0.82509  1.00000"
      ]
     },
     "execution_count": 364,
     "metadata": {},
     "output_type": "execute_result"
    }
   ],
   "source": [
    "data['Int_res_id'] = data['Restaurant_id'].apply(lambda x: int(x[3:]))\n",
    "data[['Int_res_id', 'Ranking']].corr()"
   ]
  },
  {
   "cell_type": "code",
   "execution_count": 365,
   "metadata": {},
   "outputs": [
    {
     "name": "stdout",
     "output_type": "stream",
     "text": [
      "Корреляция в сете трайн\n",
      "             Int_res_id   Ranking\n",
      "Int_res_id    1.000000  0.999999\n",
      "Ranking       0.999999  1.000000\n",
      "Корреляция в сете тест\n",
      "             Int_res_id   Ranking\n",
      "Int_res_id    1.000000 -0.001706\n",
      "Ranking      -0.001706  1.000000\n"
     ]
    }
   ],
   "source": [
    "print(\"Корреляция в сете трайн\\n\", data[data['Rating'] ==1][['Int_res_id', 'Ranking']].corr())\n",
    "print(\"Корреляция в сете тест\\n\", data[data['Rating'] ==0][['Int_res_id', 'Ranking']].corr())"
   ]
  },
  {
   "cell_type": "markdown",
   "metadata": {},
   "source": [
    "Создадим новый признак chain: 1 - сетевой, 0 - несетевой."
   ]
  },
  {
   "cell_type": "code",
   "execution_count": 366,
   "metadata": {},
   "outputs": [],
   "source": [
    "chain_lst = list(data.Restaurant_id.value_counts()[data.Restaurant_id.value_counts() > 1].index)"
   ]
  },
  {
   "cell_type": "code",
   "execution_count": 367,
   "metadata": {},
   "outputs": [
    {
     "data": {
      "text/plain": [
       "1.0    0.92386\n",
       "0.0    0.07614\n",
       "Name: chain, dtype: float64"
      ]
     },
     "execution_count": 367,
     "metadata": {},
     "output_type": "execute_result"
    }
   ],
   "source": [
    "data['chain'] = data[data.Restaurant_id.isin(chain_lst)].Restaurant_id.apply(lambda x: 1)\n",
    "data['chain'].fillna(0, inplace=True)\n",
    "data['chain'].value_counts(normalize=True)"
   ]
  },
  {
   "cell_type": "markdown",
   "metadata": {},
   "source": [
    "Кажется, что более 92% всех ресторанов - сетевые"
   ]
  },
  {
   "cell_type": "markdown",
   "metadata": {},
   "source": [
    "2. City"
   ]
  },
  {
   "cell_type": "code",
   "execution_count": 368,
   "metadata": {},
   "outputs": [
    {
     "data": {
      "text/plain": [
       "Text(0.5, 1.0, 'Диаграмма 2 Распределение ресторанов по городам')"
      ]
     },
     "execution_count": 368,
     "metadata": {},
     "output_type": "execute_result"
    },
    {
     "data": {
      "image/png": "[encoded data removed]",
      "text/plain": [
       "<Figure size 432x288 with 1 Axes>"
      ]
     },
     "metadata": {
      "needs_background": "light"
     },
     "output_type": "display_data"
    }
   ],
   "source": [
    "# Посмотрим какие города чаще встречаются\n",
    "cities = data.City.value_counts(ascending=False).plot(kind = 'bar')\n",
    "plt.title('Диаграмма 2 Распределение ресторанов по городам')"
   ]
  },
  {
   "cell_type": "markdown",
   "metadata": {},
   "source": [
    "Предположения о том, что количество городов зависит от численности населения и ресторанов скорее всего неверное, вместе с тем, мы видим столицы, где больше всего бывают туристы,\n",
    "которые и склонны писать отзывы и читать их, создадим переменную, как количество упомянутых ресторанов на каждый город, даже если не написали отзыв\n"
   ]
  },
  {
   "cell_type": "code",
   "execution_count": 369,
   "metadata": {},
   "outputs": [
    {
     "name": "stdout",
     "output_type": "stream",
     "text": [
      "{'London': 7193, 'Paris': 6108, 'Madrid': 3813, 'Barcelona': 3395, 'Berlin': 2705, 'Milan': 2694, 'Rome': 2589, 'Prague': 1816, 'Lisbon': 1647, 'Vienna': 1443, 'Amsterdam': 1372, 'Brussels': 1314, 'Hamburg': 1186, 'Munich': 1145, 'Lyon': 1126, 'Stockholm': 1033, 'Budapest': 1021, 'Warsaw': 925, 'Dublin': 836, 'Copenhagen': 819, 'Athens': 776, 'Edinburgh': 745, 'Zurich': 685, 'Oporto': 642, 'Geneva': 590, 'Krakow': 554, 'Oslo': 488, 'Helsinki': 475, 'Bratislava': 380, 'Luxembourg': 263, 'Ljubljana': 222}\n"
     ]
    }
   ],
   "source": [
    "city_count_dict = dict(data['City'].value_counts()) # словарь с количеством ресторанов по городам\n",
    "data['main_rest_in_city'] = data.City.map(city_count_dict)\n",
    "print(city_count_dict)"
   ]
  },
  {
   "cell_type": "code",
   "execution_count": 370,
   "metadata": {},
   "outputs": [
    {
     "data": {
      "text/plain": [
       "Text(0.5, 1.0, 'Диаграмма 3 Распределение рейтингов по городам')"
      ]
     },
     "execution_count": 370,
     "metadata": {},
     "output_type": "execute_result"
    },
    {
     "data": {
      "image/png": "[encoded data removed]",
      "text/plain": [
       "<Figure size 1800x432 with 1 Axes>"
      ]
     },
     "metadata": {
      "needs_background": "light"
     },
     "output_type": "display_data"
    }
   ],
   "source": [
    "plt.figure(figsize=(25, 6))\n",
    "sns.boxplot(x='City', y='Rating', data=data[data['sample']==1]) # смотрим тренировочные данные\n",
    "plt.title('Диаграмма 3 Распределение рейтингов по городам')\n"
   ]
  },
  {
   "cell_type": "markdown",
   "metadata": {},
   "source": [
    "Из графика понятно, что в Милане мало ресторанов с высоким рейтингом, но в целом средние значения по столицам похожи"
   ]
  },
  {
   "cell_type": "markdown",
   "metadata": {},
   "source": [
    "3. Cuisine Style"
   ]
  },
  {
   "cell_type": "code",
   "execution_count": 371,
   "metadata": {},
   "outputs": [
    {
     "data": {
      "text/plain": [
       "\"['European', 'Scandinavian', 'Gluten Free Options', 'Vegetarian Friendly', 'Vegan Options']\""
      ]
     },
     "execution_count": 371,
     "metadata": {},
     "output_type": "execute_result"
    }
   ],
   "source": [
    "# Посмотрим на данную и фичу, постараемся обработать\n",
    "data['Cuisine Style'][1]"
   ]
  },
  {
   "cell_type": "code",
   "execution_count": 372,
   "metadata": {},
   "outputs": [],
   "source": [
    "# как видно из диаграмма 1, по данной фиче много пропущенных значений, обработаем их, заполнив значениям Others, одновременно сохранив колонку с NanA\n",
    "data['Cuisine Style_Nan'] = data['Cuisine Style'].isna().astype('uint8')\n",
    "data['Cuisine Style'] = data['Cuisine Style'].fillna(\"['Others']\")\n",
    "\n"
   ]
  },
  {
   "cell_type": "code",
   "execution_count": 373,
   "metadata": {},
   "outputs": [
    {
     "data": {
      "text/plain": [
       "0                                            [Bar, Pub]\n",
       "1     [European, Scandinavian, Gluten Free Options, ...\n",
       "2                                 [Vegetarian Friendly]\n",
       "3     [Italian, Mediterranean, European, Vegetarian ...\n",
       "4     [Italian, Mediterranean, European, Seafood, Ve...\n",
       "5                             [French, Cafe, Fast Food]\n",
       "6                                [European, Portuguese]\n",
       "7                                              [Others]\n",
       "8                              [European, Scandinavian]\n",
       "9                                             [Italian]\n",
       "10                                             [Others]\n",
       "11                                            [Italian]\n",
       "12                                              [Greek]\n",
       "13                                             [Others]\n",
       "14    [European, Czech, Eastern European, Central Eu...\n",
       "Name: Cuisine Style List, dtype: object"
      ]
     },
     "execution_count": 373,
     "metadata": {},
     "output_type": "execute_result"
    }
   ],
   "source": [
    "# как часто встречаются разные кухни? для этого распознаем текст и вытащим в отдельные столбец название кухонь\n",
    "data['Cuisine Style List'] = data['Cuisine Style'].str.findall(r\"'(\\b.*?\\b)'\")\n",
    "data['Cuisine Style List'].head(15)\n",
    "\n"
   ]
  },
  {
   "cell_type": "code",
   "execution_count": 374,
   "metadata": {},
   "outputs": [
    {
     "data": {
      "text/plain": [
       "Text(0.5, 1.0, 'Диаграмма 4 Количество кухонь')"
      ]
     },
     "execution_count": 374,
     "metadata": {},
     "output_type": "execute_result"
    },
    {
     "data": {
      "image/png": "[encoded data removed]",
      "text/plain": [
       "<Figure size 1800x432 with 1 Axes>"
      ]
     },
     "metadata": {
      "needs_background": "light"
     },
     "output_type": "display_data"
    }
   ],
   "source": [
    "plt.figure(figsize=(25,6))\n",
    "c = Counter()\n",
    "for line in data['Cuisine Style List']:\n",
    "    for cuisine_style in line:\n",
    "        c[cuisine_style] += 1\n",
    "cuisine_styles = pd.Series(c)\n",
    "cuisine_styles.sort_values(ascending=False).plot(kind = 'bar')\n",
    "plt.title('Диаграмма 4 Количество кухонь')"
   ]
  },
  {
   "cell_type": "markdown",
   "metadata": {},
   "source": [
    "Вывод - наиболее встречаемые кухни - вегетарианские и европейские"
   ]
  },
  {
   "cell_type": "markdown",
   "metadata": {},
   "source": [
    "4. Ranking - пропусков нет"
   ]
  },
  {
   "cell_type": "code",
   "execution_count": 375,
   "metadata": {},
   "outputs": [
    {
     "data": {
      "text/plain": [
       "Text(0.5, 1.0, 'Диаграмма 5 Распределение признака')"
      ]
     },
     "execution_count": 375,
     "metadata": {},
     "output_type": "execute_result"
    },
    {
     "data": {
      "image/png": "[encoded data removed]",
      "text/plain": [
       "<Figure size 1440x432 with 1 Axes>"
      ]
     },
     "metadata": {
      "needs_background": "light"
     },
     "output_type": "display_data"
    }
   ],
   "source": [
    "# визуализируем, может будет что полезное\n",
    "plt.rcParams['figure.figsize'] = (20,6)\n",
    "data['Ranking'].hist(bins=100)\n",
    "plt.title('Диаграмма 5 Распределение признака')"
   ]
  },
  {
   "cell_type": "code",
   "execution_count": 376,
   "metadata": {},
   "outputs": [
    {
     "data": {
      "image/png": "[encoded data removed]",
      "text/plain": [
       "<Figure size 1440x432 with 1 Axes>"
      ]
     },
     "metadata": {
      "needs_background": "light"
     },
     "output_type": "display_data"
    }
   ],
   "source": [
    "# Посмотрим на 10 главных городов\n",
    "for x in (data['City'].value_counts())[0:10].index:\n",
    "\tdata['Ranking'][data['City'] == x].hist(bins=35, label = x)\n",
    "\tplt.legend(prop ={'size': 10})\n",
    "\tplt.title('Диаграмма 6 топ 10 городов')"
   ]
  },
  {
   "cell_type": "code",
   "execution_count": 377,
   "metadata": {},
   "outputs": [
    {
     "data": {
      "image/png": "[encoded data removed]",
      "text/plain": [
       "<Figure size 1440x432 with 1 Axes>"
      ]
     },
     "metadata": {
      "needs_background": "light"
     },
     "output_type": "display_data"
    }
   ],
   "source": [
    "data['Relative Ranking'] = data['Ranking']/data['main_rest_in_city']\n",
    "for x in (data['City'].value_counts())[0:10].index:\n",
    "    data['Relative Ranking'][data['City'] == x].hist(bins=35, label = x)\n",
    "\t"
   ]
  },
  {
   "cell_type": "markdown",
   "metadata": {},
   "source": [
    "Относительный ranking не выявил ничего не обычного"
   ]
  },
  {
   "cell_type": "markdown",
   "metadata": {},
   "source": [
    "5. Price Range\n",
    "\t\n",
    "Большое количество пропусков"
   ]
  },
  {
   "cell_type": "code",
   "execution_count": 378,
   "metadata": {},
   "outputs": [
    {
     "data": {
      "text/plain": [
       "$$ - $$$    23041\n",
       "NaN         17361\n",
       "$            7816\n",
       "$$$$         1782\n",
       "Name: Price Range, dtype: int64"
      ]
     },
     "execution_count": 378,
     "metadata": {},
     "output_type": "execute_result"
    }
   ],
   "source": [
    "# Пропуски надо заменять, но задача состоит в том, чем? посмотри на распределение значени и общую долю\n",
    "data['Price Range'].value_counts(dropna=False)"
   ]
  },
  {
   "cell_type": "code",
   "execution_count": 379,
   "metadata": {},
   "outputs": [
    {
     "data": {
      "text/plain": [
       "0    0.65278\n",
       "1    0.34722\n",
       "Name: Missing Price Range, dtype: float64"
      ]
     },
     "execution_count": 379,
     "metadata": {},
     "output_type": "execute_result"
    }
   ],
   "source": [
    "data['Missing Price Range'] = pd.isna(data['Price Range']).astype('uint8')\n",
    "data['Missing Price Range'].value_counts(normalize = True)\n"
   ]
  },
  {
   "cell_type": "markdown",
   "metadata": {},
   "source": [
    "Видим, что 35% - это достаточно много"
   ]
  },
  {
   "cell_type": "code",
   "execution_count": 380,
   "metadata": {},
   "outputs": [
    {
     "data": {
      "text/plain": [
       "$$ - $$$    0.705935\n",
       "$           0.239468\n",
       "$$$$        0.054597\n",
       "Name: Price Range, dtype: float64"
      ]
     },
     "execution_count": 380,
     "metadata": {},
     "output_type": "execute_result"
    }
   ],
   "source": [
    "data['Price Range'].value_counts(normalize=True) # средний ценовой диапазон - встречается чаще всего"
   ]
  },
  {
   "cell_type": "code",
   "execution_count": 381,
   "metadata": {},
   "outputs": [
    {
     "data": {
      "text/plain": [
       "Text(0.5, 1.0, 'Диаграмма 8 Распределение оценок по ценовому уровню ресторана')"
      ]
     },
     "execution_count": 381,
     "metadata": {},
     "output_type": "execute_result"
    },
    {
     "data": {
      "image/png": "[encoded data removed]",
      "text/plain": [
       "<Figure size 1440x432 with 1 Axes>"
      ]
     },
     "metadata": {
      "needs_background": "light"
     },
     "output_type": "display_data"
    }
   ],
   "source": [
    "price_dict = {'$': 1,\n",
    "              '$$ - $$$': 2,\n",
    "              '$$$$': 3}\n",
    "\n",
    "\n",
    "data['Price Range'] = data['Price Range'].map(price_dict)\n",
    "sns.boxplot(x='Price Range', y='Rating', data=data)\n",
    "plt.title('Диаграмма 8 Распределение оценок по ценовому уровню ресторана')"
   ]
  },
  {
   "cell_type": "markdown",
   "metadata": {},
   "source": [
    "Дорогие рестораны получают меньше всего низких оценок\n"
   ]
  },
  {
   "cell_type": "code",
   "execution_count": 382,
   "metadata": {},
   "outputs": [],
   "source": [
    "# Так как 70% составлет значение признака ['Price Range'] - '$$ - $$$' \n",
    "# То заполняем пропуски '$$ - $$$'\n",
    "data['Price Range'].fillna('$$ - $$$', inplace=True)"
   ]
  },
  {
   "cell_type": "markdown",
   "metadata": {},
   "source": [
    "6. Reviews\n",
    "\n",
    "2 пропуска и 8112 пустых значений. Содержит тексты двух последних отзывов и даты этих отзывов. Формат данных - строка"
   ]
  },
  {
   "cell_type": "code",
   "execution_count": 383,
   "metadata": {},
   "outputs": [
    {
     "data": {
      "text/plain": [
       "1    [['Very good reviews!', 'Fine dining in Hakani...\n",
       "2    [['Better than the Links', 'Ivy Black'], ['12/...\n",
       "3    [['Most exquisite', 'Delicious and authentic']...\n",
       "4    [['Always the best in bratislava', 'Very good ...\n",
       "5    [['Lunch Break', 'Good to Quick Bite'], ['09/0...\n",
       "6                                             [[], []]\n",
       "7                                             [[], []]\n",
       "8    [['Big group supper', 'Good food but very slow...\n",
       "9    [['Good food', 'Good pizza'], ['12/02/2017', '...\n",
       "Name: Reviews, dtype: object"
      ]
     },
     "execution_count": 383,
     "metadata": {},
     "output_type": "execute_result"
    }
   ],
   "source": [
    "data.Reviews[1:10] # имеются даты отзывов, пустые значения"
   ]
  },
  {
   "cell_type": "code",
   "execution_count": 384,
   "metadata": {},
   "outputs": [],
   "source": [
    "data.Reviews = data.Reviews.fillna('[[], []]')"
   ]
  },
  {
   "cell_type": "code",
   "execution_count": 385,
   "metadata": {},
   "outputs": [],
   "source": [
    "# сохраним пустые значения\n",
    "data['Missing Reviews'] = data['Reviews'].apply(lambda x: 1 if x == '[[], []]' else 0)"
   ]
  },
  {
   "cell_type": "markdown",
   "metadata": {},
   "source": [
    "Важно проанализировать даты отзывов, Максимальная разница количества дней между коментариями будет говорит о том, что отзывы практически не оставляют"
   ]
  },
  {
   "cell_type": "code",
   "execution_count": 386,
   "metadata": {},
   "outputs": [],
   "source": [
    "#  проверим во всех ли строчках содержатся по два значения\n",
    "data['Review Date'] = data['Reviews'].str.findall(r'\\d+/\\d+/\\d+').to_list()"
   ]
  },
  {
   "cell_type": "code",
   "execution_count": 387,
   "metadata": {},
   "outputs": [],
   "source": [
    "data['Num of Dates'] = data['Review Date'].apply(lambda x: len(x))\n"
   ]
  },
  {
   "cell_type": "code",
   "execution_count": 388,
   "metadata": {},
   "outputs": [
    {
     "data": {
      "text/plain": [
       "2    36202\n",
       "0     8114\n",
       "1     5680\n",
       "3        4\n",
       "Name: Num of Dates, dtype: int64"
      ]
     },
     "execution_count": 388,
     "metadata": {},
     "output_type": "execute_result"
    }
   ],
   "source": [
    "data['Num of Dates'].value_counts()"
   ]
  },
  {
   "cell_type": "code",
   "execution_count": 389,
   "metadata": {},
   "outputs": [
    {
     "data": {
      "text/html": [
       "<div>\n",
       "<style scoped>\n",
       "    .dataframe tbody tr th:only-of-type {\n",
       "        vertical-align: middle;\n",
       "    }\n",
       "\n",
       "    .dataframe tbody tr th {\n",
       "        vertical-align: top;\n",
       "    }\n",
       "\n",
       "    .dataframe thead th {\n",
       "        text-align: right;\n",
       "    }\n",
       "</style>\n",
       "<table border=\"1\" class=\"dataframe\">\n",
       "  <thead>\n",
       "    <tr style=\"text-align: right;\">\n",
       "      <th></th>\n",
       "      <th>Review Date</th>\n",
       "      <th>Reviews</th>\n",
       "    </tr>\n",
       "  </thead>\n",
       "  <tbody>\n",
       "    <tr>\n",
       "      <th>2221</th>\n",
       "      <td>[21/10/17, 12/22/2017, 10/19/2017]</td>\n",
       "      <td>[['We visited 21/10/17', 'Best Kebab in London...</td>\n",
       "    </tr>\n",
       "    <tr>\n",
       "      <th>3809</th>\n",
       "      <td>[30/5/2017, 04/13/2017, 05/30/2017]</td>\n",
       "      <td>[['Good Museum Cafeteria', 'Lunch 30/5/2017'],...</td>\n",
       "    </tr>\n",
       "    <tr>\n",
       "      <th>19254</th>\n",
       "      <td>[3/1/2017, 06/02/2017, 01/03/2017]</td>\n",
       "      <td>[['The desserts arcade !', 'Visit today 3/1/20...</td>\n",
       "    </tr>\n",
       "    <tr>\n",
       "      <th>33348</th>\n",
       "      <td>[29/9/2016, 09/30/2016, 08/25/2016]</td>\n",
       "      <td>[['lunch 29/9/2016', 'Unplanned Great Dinner']...</td>\n",
       "    </tr>\n",
       "  </tbody>\n",
       "</table>\n",
       "</div>"
      ],
      "text/plain": [
       "                               Review Date  \\\n",
       "2221    [21/10/17, 12/22/2017, 10/19/2017]   \n",
       "3809   [30/5/2017, 04/13/2017, 05/30/2017]   \n",
       "19254   [3/1/2017, 06/02/2017, 01/03/2017]   \n",
       "33348  [29/9/2016, 09/30/2016, 08/25/2016]   \n",
       "\n",
       "                                                 Reviews  \n",
       "2221   [['We visited 21/10/17', 'Best Kebab in London...  \n",
       "3809   [['Good Museum Cafeteria', 'Lunch 30/5/2017'],...  \n",
       "19254  [['The desserts arcade !', 'Visit today 3/1/20...  \n",
       "33348  [['lunch 29/9/2016', 'Unplanned Great Dinner']...  "
      ]
     },
     "execution_count": 389,
     "metadata": {},
     "output_type": "execute_result"
    }
   ],
   "source": [
    "data[data['Num of Dates'] == 3][['Review Date','Reviews']]"
   ]
  },
  {
   "cell_type": "code",
   "execution_count": 390,
   "metadata": {},
   "outputs": [
    {
     "data": {
      "text/html": [
       "<div>\n",
       "<style scoped>\n",
       "    .dataframe tbody tr th:only-of-type {\n",
       "        vertical-align: middle;\n",
       "    }\n",
       "\n",
       "    .dataframe tbody tr th {\n",
       "        vertical-align: top;\n",
       "    }\n",
       "\n",
       "    .dataframe thead th {\n",
       "        text-align: right;\n",
       "    }\n",
       "</style>\n",
       "<table border=\"1\" class=\"dataframe\">\n",
       "  <thead>\n",
       "    <tr style=\"text-align: right;\">\n",
       "      <th></th>\n",
       "      <th>Review Date</th>\n",
       "      <th>Reviews</th>\n",
       "    </tr>\n",
       "  </thead>\n",
       "  <tbody>\n",
       "    <tr>\n",
       "      <th>2221</th>\n",
       "      <td>[21/10/17, 12/22/2017, 10/19/2017]</td>\n",
       "      <td>[['We visited 21/10/17', 'Best Kebab in London...</td>\n",
       "    </tr>\n",
       "    <tr>\n",
       "      <th>3809</th>\n",
       "      <td>[30/5/2017, 04/13/2017, 05/30/2017]</td>\n",
       "      <td>[['Good Museum Cafeteria', 'Lunch 30/5/2017'],...</td>\n",
       "    </tr>\n",
       "    <tr>\n",
       "      <th>19254</th>\n",
       "      <td>[3/1/2017, 06/02/2017, 01/03/2017]</td>\n",
       "      <td>[['The desserts arcade !', 'Visit today 3/1/20...</td>\n",
       "    </tr>\n",
       "    <tr>\n",
       "      <th>33348</th>\n",
       "      <td>[29/9/2016, 09/30/2016, 08/25/2016]</td>\n",
       "      <td>[['lunch 29/9/2016', 'Unplanned Great Dinner']...</td>\n",
       "    </tr>\n",
       "  </tbody>\n",
       "</table>\n",
       "</div>"
      ],
      "text/plain": [
       "                               Review Date  \\\n",
       "2221    [21/10/17, 12/22/2017, 10/19/2017]   \n",
       "3809   [30/5/2017, 04/13/2017, 05/30/2017]   \n",
       "19254   [3/1/2017, 06/02/2017, 01/03/2017]   \n",
       "33348  [29/9/2016, 09/30/2016, 08/25/2016]   \n",
       "\n",
       "                                                 Reviews  \n",
       "2221   [['We visited 21/10/17', 'Best Kebab in London...  \n",
       "3809   [['Good Museum Cafeteria', 'Lunch 30/5/2017'],...  \n",
       "19254  [['The desserts arcade !', 'Visit today 3/1/20...  \n",
       "33348  [['lunch 29/9/2016', 'Unplanned Great Dinner']...  "
      ]
     },
     "execution_count": 390,
     "metadata": {},
     "output_type": "execute_result"
    }
   ],
   "source": [
    "# Создаем отдельный признак с датами формата datetime\n",
    "data['Review Date DT'] = data['Review Date'].apply(lambda x: pd.to_datetime(x))\n",
    "data[data['Num of Dates'] == 3][['Review Date','Reviews']]"
   ]
  },
  {
   "cell_type": "code",
   "execution_count": 391,
   "metadata": {},
   "outputs": [
    {
     "name": "stderr",
     "output_type": "stream",
     "text": [
      "C:\\Users\\user\\AppData\\Local\\Temp/ipykernel_12060/2576881861.py:2: FutureWarning: The pandas.datetime class is deprecated and will be removed from pandas in a future version. Import from datetime module instead.\n",
      "  current_date = pd.datetime.now()\n"
     ]
    }
   ],
   "source": [
    "# Задаем текущую дату\n",
    "current_date = pd.datetime.now()"
   ]
  },
  {
   "cell_type": "code",
   "execution_count": 392,
   "metadata": {},
   "outputs": [],
   "source": [
    "# Создадим колонки с датой первого и последнего отзыва\n",
    "# Если дата одна, будем считать, что это дата и первого, и последнего отзыва\n",
    "data['First Review Date'] = data['Review Date DT'].apply(lambda x: x.min())\n",
    "data['Last Review Date'] = data['Review Date DT'].apply(lambda x: x.max())"
   ]
  },
  {
   "cell_type": "code",
   "execution_count": 393,
   "metadata": {},
   "outputs": [],
   "source": [
    "# Создадим числовые колонки на основе признаков со временем\n",
    "# Количество дней после последнего и первого отзыва, временной промежуток между отзывами в днях\n",
    "data['Days from Last Review'] = (current_date - data['Last Review Date']).dt.days \n",
    "data['Days from First Review'] = (current_date - data['First Review Date']).dt.days\n",
    "data['Days between Reviews'] = data['Days from Last Review'] - data['Days from First Review']"
   ]
  },
  {
   "cell_type": "code",
   "execution_count": 394,
   "metadata": {},
   "outputs": [],
   "source": [
    "# Удалим ненужные переменные\n",
    "data.drop(['Review Date', 'Review Date DT', 'First Review Date', 'Last Review Date', 'Num of Dates'], axis = 1, inplace=True)\n",
    "data.drop(['Reviews'], axis = 1, inplace=True)\n"
   ]
  },
  {
   "cell_type": "markdown",
   "metadata": {},
   "source": [
    "7. ID_TA\n",
    "\n",
    "Идентификатор ресторана на сайте Tripadvisor. Никакой дополнительной информации не несет. Можно смело удалять."
   ]
  },
  {
   "cell_type": "code",
   "execution_count": 395,
   "metadata": {},
   "outputs": [],
   "source": [
    "# \n",
    "# data.drop(['ID_TA'], axis = 1, inplace=True)"
   ]
  },
  {
   "cell_type": "markdown",
   "metadata": {},
   "source": [
    "8. Numbers of Reviews"
   ]
  },
  {
   "cell_type": "code",
   "execution_count": 396,
   "metadata": {},
   "outputs": [
    {
     "data": {
      "text/plain": [
       "2.0       0.051346\n",
       "3.0       0.043632\n",
       "4.0       0.036474\n",
       "5.0       0.031432\n",
       "6.0       0.026880\n",
       "            ...   \n",
       "2366.0    0.000021\n",
       "1757.0    0.000021\n",
       "4996.0    0.000021\n",
       "2236.0    0.000021\n",
       "2297.0    0.000021\n",
       "Name: Number of Reviews, Length: 1573, dtype: float64"
      ]
     },
     "execution_count": 396,
     "metadata": {},
     "output_type": "execute_result"
    }
   ],
   "source": [
    "# сохраняем инфу о пропусках\n",
    "data['Miss_num_r'] = pd.isna(data['Number of Reviews']).astype('uint8')\n",
    "# смотрим распределение по количеству отзывов\n",
    "data['Number of Reviews'].value_counts(normalize=True)"
   ]
  },
  {
   "cell_type": "code",
   "execution_count": 397,
   "metadata": {},
   "outputs": [
    {
     "data": {
      "text/plain": [
       "0    0.936\n",
       "1    0.064\n",
       "Name: Miss_num_r, dtype: float64"
      ]
     },
     "execution_count": 397,
     "metadata": {},
     "output_type": "execute_result"
    }
   ],
   "source": [
    "data['Miss_num_r'].value_counts(normalize=True)"
   ]
  },
  {
   "cell_type": "markdown",
   "metadata": {},
   "source": [
    "Порядка 5% всех отзывов - имеют 2 отзыва, можно ли сказать, какая будет медиана? ключевой вопрос каким значением заполнять пропуски, их немного - 6%, но отсутствие отзывов серьезный фактор при выборе ресторана"
   ]
  },
  {
   "cell_type": "code",
   "execution_count": 398,
   "metadata": {},
   "outputs": [
    {
     "name": "stdout",
     "output_type": "stream",
     "text": [
      "Медиана 33.0\n",
      "Мода 0    2.0\n",
      "dtype: float64\n"
     ]
    }
   ],
   "source": [
    "med = data['Number of Reviews'].median()\n",
    "mod = data['Number of Reviews'].mode()\n",
    "print(r'Медиана',med)\n",
    "print(r'Мода',mod)"
   ]
  },
  {
   "cell_type": "code",
   "execution_count": 399,
   "metadata": {},
   "outputs": [
    {
     "data": {
      "text/plain": [
       "Text(0.5, 1.0, 'Диаграмма 9 Распределение количества отзывов')"
      ]
     },
     "execution_count": 399,
     "metadata": {},
     "output_type": "execute_result"
    },
    {
     "data": {
      "image/png": "[encoded data removed]",
      "text/plain": [
       "<Figure size 1440x432 with 1 Axes>"
      ]
     },
     "metadata": {
      "needs_background": "light"
     },
     "output_type": "display_data"
    }
   ],
   "source": [
    "data['Number of Reviews'].plot()\n",
    "plt.title(\"Диаграмма 9 Распределение количества отзывов\")\n"
   ]
  },
  {
   "cell_type": "markdown",
   "metadata": {},
   "source": [
    "Количество отзывов по некоторым ресторанам допольно большое, либо это проходимость у них, либо накручены"
   ]
  },
  {
   "cell_type": "code",
   "execution_count": 400,
   "metadata": {},
   "outputs": [
    {
     "name": "stderr",
     "output_type": "stream",
     "text": [
      "C:\\Users\\user\\anaconda3\\lib\\site-packages\\seaborn\\_decorators.py:36: FutureWarning: Pass the following variable as a keyword arg: x. From version 0.12, the only valid positional argument will be `data`, and passing other arguments without an explicit keyword will result in an error or misinterpretation.\n",
      "  warnings.warn(\n"
     ]
    },
    {
     "data": {
      "text/plain": [
       "Text(0.5, 1.0, 'Диаграмма 10 Распределение количества отзывов/outliners')"
      ]
     },
     "execution_count": 400,
     "metadata": {},
     "output_type": "execute_result"
    },
    {
     "data": {
      "image/png": "[encoded data removed]",
      "text/plain": [
       "<Figure size 1440x432 with 1 Axes>"
      ]
     },
     "metadata": {
      "needs_background": "light"
     },
     "output_type": "display_data"
    }
   ],
   "source": [
    "sns.boxplot(data['Number of Reviews'])\n",
    "plt.title(\"Диаграмма 10 Распределение количества отзывов/outliners\")"
   ]
  },
  {
   "cell_type": "markdown",
   "metadata": {},
   "source": [
    "Посмотрим, сколько отзывов оставляли пустыми, если ресторан понравился посетители могут написать отзыв, но если не понравился, уж точно опишут его"
   ]
  },
  {
   "cell_type": "code",
   "execution_count": 401,
   "metadata": {},
   "outputs": [
    {
     "data": {
      "text/html": [
       "<div>\n",
       "<style scoped>\n",
       "    .dataframe tbody tr th:only-of-type {\n",
       "        vertical-align: middle;\n",
       "    }\n",
       "\n",
       "    .dataframe tbody tr th {\n",
       "        vertical-align: top;\n",
       "    }\n",
       "\n",
       "    .dataframe thead th {\n",
       "        text-align: right;\n",
       "    }\n",
       "</style>\n",
       "<table border=\"1\" class=\"dataframe\">\n",
       "  <thead>\n",
       "    <tr style=\"text-align: right;\">\n",
       "      <th></th>\n",
       "      <th>Number of Reviews</th>\n",
       "      <th>Missing Reviews</th>\n",
       "    </tr>\n",
       "  </thead>\n",
       "  <tbody>\n",
       "    <tr>\n",
       "      <th>0</th>\n",
       "      <td>4.0</td>\n",
       "      <td>1</td>\n",
       "    </tr>\n",
       "    <tr>\n",
       "      <th>1</th>\n",
       "      <td>97.0</td>\n",
       "      <td>0</td>\n",
       "    </tr>\n",
       "    <tr>\n",
       "      <th>2</th>\n",
       "      <td>28.0</td>\n",
       "      <td>0</td>\n",
       "    </tr>\n",
       "    <tr>\n",
       "      <th>3</th>\n",
       "      <td>202.0</td>\n",
       "      <td>0</td>\n",
       "    </tr>\n",
       "    <tr>\n",
       "      <th>4</th>\n",
       "      <td>162.0</td>\n",
       "      <td>0</td>\n",
       "    </tr>\n",
       "    <tr>\n",
       "      <th>5</th>\n",
       "      <td>24.0</td>\n",
       "      <td>0</td>\n",
       "    </tr>\n",
       "    <tr>\n",
       "      <th>6</th>\n",
       "      <td>2.0</td>\n",
       "      <td>1</td>\n",
       "    </tr>\n",
       "    <tr>\n",
       "      <th>7</th>\n",
       "      <td>NaN</td>\n",
       "      <td>1</td>\n",
       "    </tr>\n",
       "    <tr>\n",
       "      <th>8</th>\n",
       "      <td>2.0</td>\n",
       "      <td>0</td>\n",
       "    </tr>\n",
       "    <tr>\n",
       "      <th>9</th>\n",
       "      <td>13.0</td>\n",
       "      <td>0</td>\n",
       "    </tr>\n",
       "  </tbody>\n",
       "</table>\n",
       "</div>"
      ],
      "text/plain": [
       "   Number of Reviews  Missing Reviews\n",
       "0                4.0                1\n",
       "1               97.0                0\n",
       "2               28.0                0\n",
       "3              202.0                0\n",
       "4              162.0                0\n",
       "5               24.0                0\n",
       "6                2.0                1\n",
       "7                NaN                1\n",
       "8                2.0                0\n",
       "9               13.0                0"
      ]
     },
     "execution_count": 401,
     "metadata": {},
     "output_type": "execute_result"
    }
   ],
   "source": [
    "data[['Number of Reviews', 'Missing Reviews']].head(10)"
   ]
  },
  {
   "cell_type": "markdown",
   "metadata": {},
   "source": [
    "Любопытно, может по каким-то особенным ресторанам есть очень много пустых отзывов? пустые отзывы проще всего написать, для раскрутки ресторана, так как пользователь ориентируется на количество и средний рейтинг"
   ]
  },
  {
   "cell_type": "code",
   "execution_count": 402,
   "metadata": {},
   "outputs": [
    {
     "data": {
      "text/html": [
       "<div>\n",
       "<style scoped>\n",
       "    .dataframe tbody tr th:only-of-type {\n",
       "        vertical-align: middle;\n",
       "    }\n",
       "\n",
       "    .dataframe tbody tr th {\n",
       "        vertical-align: top;\n",
       "    }\n",
       "\n",
       "    .dataframe thead th {\n",
       "        text-align: right;\n",
       "    }\n",
       "</style>\n",
       "<table border=\"1\" class=\"dataframe\">\n",
       "  <thead>\n",
       "    <tr style=\"text-align: right;\">\n",
       "      <th></th>\n",
       "      <th>Number of Reviews</th>\n",
       "      <th>Missing Reviews</th>\n",
       "      <th>Restaurant_id</th>\n",
       "      <th>chain</th>\n",
       "    </tr>\n",
       "  </thead>\n",
       "  <tbody>\n",
       "    <tr>\n",
       "      <th>29251</th>\n",
       "      <td>9660.0</td>\n",
       "      <td>0</td>\n",
       "      <td>id_375</td>\n",
       "      <td>1.0</td>\n",
       "    </tr>\n",
       "    <tr>\n",
       "      <th>37027</th>\n",
       "      <td>8927.0</td>\n",
       "      <td>0</td>\n",
       "      <td>id_64</td>\n",
       "      <td>1.0</td>\n",
       "    </tr>\n",
       "    <tr>\n",
       "      <th>25779</th>\n",
       "      <td>7622.0</td>\n",
       "      <td>0</td>\n",
       "      <td>id_430</td>\n",
       "      <td>1.0</td>\n",
       "    </tr>\n",
       "    <tr>\n",
       "      <th>26433</th>\n",
       "      <td>7575.0</td>\n",
       "      <td>0</td>\n",
       "      <td>id_12</td>\n",
       "      <td>1.0</td>\n",
       "    </tr>\n",
       "    <tr>\n",
       "      <th>18516</th>\n",
       "      <td>6777.0</td>\n",
       "      <td>0</td>\n",
       "      <td>id_266</td>\n",
       "      <td>1.0</td>\n",
       "    </tr>\n",
       "    <tr>\n",
       "      <th>...</th>\n",
       "      <td>...</td>\n",
       "      <td>...</td>\n",
       "      <td>...</td>\n",
       "      <td>...</td>\n",
       "    </tr>\n",
       "    <tr>\n",
       "      <th>49965</th>\n",
       "      <td>NaN</td>\n",
       "      <td>1</td>\n",
       "      <td>id_5720</td>\n",
       "      <td>1.0</td>\n",
       "    </tr>\n",
       "    <tr>\n",
       "      <th>49972</th>\n",
       "      <td>NaN</td>\n",
       "      <td>0</td>\n",
       "      <td>id_2009</td>\n",
       "      <td>1.0</td>\n",
       "    </tr>\n",
       "    <tr>\n",
       "      <th>49986</th>\n",
       "      <td>NaN</td>\n",
       "      <td>1</td>\n",
       "      <td>id_7274</td>\n",
       "      <td>1.0</td>\n",
       "    </tr>\n",
       "    <tr>\n",
       "      <th>49988</th>\n",
       "      <td>NaN</td>\n",
       "      <td>1</td>\n",
       "      <td>id_4968</td>\n",
       "      <td>1.0</td>\n",
       "    </tr>\n",
       "    <tr>\n",
       "      <th>49989</th>\n",
       "      <td>NaN</td>\n",
       "      <td>0</td>\n",
       "      <td>id_8887</td>\n",
       "      <td>1.0</td>\n",
       "    </tr>\n",
       "  </tbody>\n",
       "</table>\n",
       "<p>50000 rows × 4 columns</p>\n",
       "</div>"
      ],
      "text/plain": [
       "       Number of Reviews  Missing Reviews Restaurant_id  chain\n",
       "29251             9660.0                0        id_375    1.0\n",
       "37027             8927.0                0         id_64    1.0\n",
       "25779             7622.0                0        id_430    1.0\n",
       "26433             7575.0                0         id_12    1.0\n",
       "18516             6777.0                0        id_266    1.0\n",
       "...                  ...              ...           ...    ...\n",
       "49965                NaN                1       id_5720    1.0\n",
       "49972                NaN                0       id_2009    1.0\n",
       "49986                NaN                1       id_7274    1.0\n",
       "49988                NaN                1       id_4968    1.0\n",
       "49989                NaN                0       id_8887    1.0\n",
       "\n",
       "[50000 rows x 4 columns]"
      ]
     },
     "execution_count": 402,
     "metadata": {},
     "output_type": "execute_result"
    }
   ],
   "source": [
    "data[['Number of Reviews', 'Missing Reviews', 'Restaurant_id', 'chain']].sort_values(by='Number of Reviews', ascending=False)"
   ]
  },
  {
   "cell_type": "code",
   "execution_count": 403,
   "metadata": {},
   "outputs": [
    {
     "data": {
      "text/plain": [
       "Missing Reviews  Restaurant_id\n",
       "0                id_227           0.00038\n",
       "                 id_633           0.00036\n",
       "                 id_436           0.00036\n",
       "                 id_71            0.00036\n",
       "                 id_344           0.00036\n",
       "                                   ...   \n",
       "                 id_8665          0.00002\n",
       "                 id_8667          0.00002\n",
       "                 id_8668          0.00002\n",
       "                 id_11416         0.00002\n",
       "1                id_9998          0.00002\n",
       "Length: 18267, dtype: float64"
      ]
     },
     "execution_count": 403,
     "metadata": {},
     "output_type": "execute_result"
    }
   ],
   "source": [
    "data[['Missing Reviews', 'Restaurant_id']].value_counts(normalize=True)"
   ]
  },
  {
   "cell_type": "markdown",
   "metadata": {},
   "source": [
    "Для ML заполним пустые значения медианой, потом можно попробывать заполнить модой или нулями, отсутствие отзывов говорит об многом"
   ]
  },
  {
   "cell_type": "code",
   "execution_count": 404,
   "metadata": {},
   "outputs": [
    {
     "data": {
      "text/plain": [
       "33.0      3514\n",
       "2.0       2403\n",
       "3.0       2042\n",
       "4.0       1707\n",
       "5.0       1471\n",
       "          ... \n",
       "2366.0       1\n",
       "1757.0       1\n",
       "4996.0       1\n",
       "2236.0       1\n",
       "2297.0       1\n",
       "Name: Number of Reviews, Length: 1573, dtype: int64"
      ]
     },
     "execution_count": 404,
     "metadata": {},
     "output_type": "execute_result"
    }
   ],
   "source": [
    "data['Number of Reviews'].fillna(med, inplace = True)\n",
    "data['Number of Reviews'].value_counts()"
   ]
  },
  {
   "cell_type": "code",
   "execution_count": 405,
   "metadata": {},
   "outputs": [
    {
     "data": {
      "text/plain": [
       "<AxesSubplot:xlabel='City'>"
      ]
     },
     "execution_count": 405,
     "metadata": {},
     "output_type": "execute_result"
    },
    {
     "data": {
      "image/png": "[encoded data removed]",
      "text/plain": [
       "<Figure size 1440x432 with 1 Axes>"
      ]
     },
     "metadata": {
      "needs_background": "light"
     },
     "output_type": "display_data"
    }
   ],
   "source": [
    "#Создадим словарь количество отзывов по городам и подставим в датасет\n",
    "\n",
    "data.groupby('City')['Number of Reviews'].sum().sort_values(ascending=False).plot(kind='bar')"
   ]
  },
  {
   "cell_type": "code",
   "execution_count": 406,
   "metadata": {},
   "outputs": [],
   "source": [
    "rewiews_city_dict = dict(data.groupby('City')['Number of Reviews'].sum())\n",
    "data['num_rewiews_city'] = data.City.map(rewiews_city_dict)\n",
    "data['relative_rank_reviews'] = data['Ranking'] / data['num_rewiews_city']"
   ]
  },
  {
   "cell_type": "markdown",
   "metadata": {},
   "source": [
    "8. URL_TA\n",
    "Ссылка на страницу ресторана на 'www.tripadvisor.com'\n",
    "\n",
    "Можно вытащить название региона, города и ресторана, идентификатор ресторана. У нас уже есть несколько колонок с этой информацией. Этот столбец может понадобиться, если надо будет собрать дополнительную информацию с сайта Tripadvisor. Пока что я предлагаю этот столбец удалить."
   ]
  },
  {
   "cell_type": "code",
   "execution_count": 407,
   "metadata": {},
   "outputs": [],
   "source": [
    "data.drop(['URL_TA'], axis = 1, inplace=True)"
   ]
  },
  {
   "cell_type": "code",
   "execution_count": null,
   "metadata": {},
   "outputs": [],
   "source": []
  },
  {
   "cell_type": "code",
   "execution_count": 408,
   "metadata": {},
   "outputs": [
    {
     "data": {
      "image/png": "[encoded data removed]",
      "text/plain": [
       "<Figure size 720x360 with 1 Axes>"
      ]
     },
     "metadata": {
      "needs_background": "light"
     },
     "output_type": "display_data"
    }
   ],
   "source": [
    "# распределение целевой переменной\n",
    "plt.figure(figsize=(10, 5))\n",
    "df_train['Rating'].value_counts(ascending=True).plot(kind='barh');"
   ]
  },
  {
   "cell_type": "code",
   "execution_count": 409,
   "metadata": {},
   "outputs": [
    {
     "data": {
      "text/plain": [
       "<Figure size 720x360 with 0 Axes>"
      ]
     },
     "metadata": {},
     "output_type": "display_data"
    },
    {
     "data": {
      "image/png": "[encoded data removed]",
      "text/plain": [
       "<Figure size 720x360 with 1 Axes>"
      ]
     },
     "metadata": {
      "needs_background": "light"
     },
     "output_type": "display_data"
    }
   ],
   "source": [
    "# Посмотрим распределение целевой переменной относительно признака ranking_norm\n",
    "plt.figure(figsize=(10, 5))\n",
    "plt.figure(figsize=(10, 5))\n",
    "data['Relative Ranking'][data['Rating'] == 5].hist(bins=100);"
   ]
  },
  {
   "cell_type": "code",
   "execution_count": 410,
   "metadata": {},
   "outputs": [
    {
     "data": {
      "image/png": "[encoded data removed]",
      "text/plain": [
       "<Figure size 720x360 with 1 Axes>"
      ]
     },
     "metadata": {
      "needs_background": "light"
     },
     "output_type": "display_data"
    }
   ],
   "source": [
    "plt.figure(figsize=(10, 5))\n",
    "data['Relative Ranking'][data['Rating'] < 4].hist(bins=100);"
   ]
  },
  {
   "cell_type": "code",
   "execution_count": 411,
   "metadata": {},
   "outputs": [
    {
     "data": {
      "image/png": "[encoded data removed]",
      "text/plain": [
       "<Figure size 1440x432 with 1 Axes>"
      ]
     },
     "metadata": {
      "needs_background": "light"
     },
     "output_type": "display_data"
    }
   ],
   "source": [
    "for x in data.Rating.unique():\n",
    "    data['Relative Ranking'][data['Rating'] == x].hist(bins=35)\n"
   ]
  },
  {
   "cell_type": "markdown",
   "metadata": {},
   "source": [
    "# Готовим моделья для машинного обучения"
   ]
  },
  {
   "cell_type": "code",
   "execution_count": 412,
   "metadata": {},
   "outputs": [],
   "source": [
    "# создадим dummy - переменные\n",
    "# 1 для городов 2 для кухонь\n",
    "data = pd.get_dummies(data, columns=['City'], dummy_na=True)\n",
    "cuisine_style_dummy = data['Cuisine Style List'].apply(lambda x: pd.Series([1] * len(x), index=x)).fillna(0, downcast='infer')\n",
    "data = pd.merge(data, cuisine_style_dummy, left_index=True, right_index=True, how='left')\n"
   ]
  },
  {
   "cell_type": "code",
   "execution_count": 413,
   "metadata": {},
   "outputs": [],
   "source": [
    "data = data.select_dtypes(exclude='O').drop(['Int_res_id','Missing Reviews', 'Miss_num_r', 'Missing Price Range', 'Days from First Review','Days from Last Review', 'Days between Reviews'], axis=1)\n"
   ]
  },
  {
   "cell_type": "code",
   "execution_count": 414,
   "metadata": {},
   "outputs": [
    {
     "data": {
      "text/html": [
       "<div>\n",
       "<style scoped>\n",
       "    .dataframe tbody tr th:only-of-type {\n",
       "        vertical-align: middle;\n",
       "    }\n",
       "\n",
       "    .dataframe tbody tr th {\n",
       "        vertical-align: top;\n",
       "    }\n",
       "\n",
       "    .dataframe thead th {\n",
       "        text-align: right;\n",
       "    }\n",
       "</style>\n",
       "<table border=\"1\" class=\"dataframe\">\n",
       "  <thead>\n",
       "    <tr style=\"text-align: right;\">\n",
       "      <th></th>\n",
       "      <th>Ranking</th>\n",
       "      <th>Number of Reviews</th>\n",
       "      <th>sample</th>\n",
       "      <th>Rating</th>\n",
       "      <th>chain</th>\n",
       "      <th>main_rest_in_city</th>\n",
       "      <th>Cuisine Style_Nan</th>\n",
       "      <th>Relative Ranking</th>\n",
       "      <th>num_rewiews_city</th>\n",
       "      <th>relative_rank_reviews</th>\n",
       "      <th>...</th>\n",
       "      <th>Albanian</th>\n",
       "      <th>Central Asian</th>\n",
       "      <th>Polynesian</th>\n",
       "      <th>Caucasian</th>\n",
       "      <th>Uzbek</th>\n",
       "      <th>Salvadoran</th>\n",
       "      <th>Xinjiang</th>\n",
       "      <th>Burmese</th>\n",
       "      <th>Fujian</th>\n",
       "      <th>Latvian</th>\n",
       "    </tr>\n",
       "  </thead>\n",
       "  <tbody>\n",
       "    <tr>\n",
       "      <th>0</th>\n",
       "      <td>12963.0</td>\n",
       "      <td>4.0</td>\n",
       "      <td>0</td>\n",
       "      <td>0.0</td>\n",
       "      <td>1.0</td>\n",
       "      <td>6108</td>\n",
       "      <td>0</td>\n",
       "      <td>2.122299</td>\n",
       "      <td>690430.0</td>\n",
       "      <td>0.018775</td>\n",
       "      <td>...</td>\n",
       "      <td>0</td>\n",
       "      <td>0</td>\n",
       "      <td>0</td>\n",
       "      <td>0</td>\n",
       "      <td>0</td>\n",
       "      <td>0</td>\n",
       "      <td>0</td>\n",
       "      <td>0</td>\n",
       "      <td>0</td>\n",
       "      <td>0</td>\n",
       "    </tr>\n",
       "    <tr>\n",
       "      <th>1</th>\n",
       "      <td>106.0</td>\n",
       "      <td>97.0</td>\n",
       "      <td>0</td>\n",
       "      <td>0.0</td>\n",
       "      <td>1.0</td>\n",
       "      <td>475</td>\n",
       "      <td>0</td>\n",
       "      <td>0.223158</td>\n",
       "      <td>30435.0</td>\n",
       "      <td>0.003483</td>\n",
       "      <td>...</td>\n",
       "      <td>0</td>\n",
       "      <td>0</td>\n",
       "      <td>0</td>\n",
       "      <td>0</td>\n",
       "      <td>0</td>\n",
       "      <td>0</td>\n",
       "      <td>0</td>\n",
       "      <td>0</td>\n",
       "      <td>0</td>\n",
       "      <td>0</td>\n",
       "    </tr>\n",
       "    <tr>\n",
       "      <th>2</th>\n",
       "      <td>810.0</td>\n",
       "      <td>28.0</td>\n",
       "      <td>0</td>\n",
       "      <td>0.0</td>\n",
       "      <td>1.0</td>\n",
       "      <td>745</td>\n",
       "      <td>0</td>\n",
       "      <td>1.087248</td>\n",
       "      <td>172796.0</td>\n",
       "      <td>0.004688</td>\n",
       "      <td>...</td>\n",
       "      <td>0</td>\n",
       "      <td>0</td>\n",
       "      <td>0</td>\n",
       "      <td>0</td>\n",
       "      <td>0</td>\n",
       "      <td>0</td>\n",
       "      <td>0</td>\n",
       "      <td>0</td>\n",
       "      <td>0</td>\n",
       "      <td>0</td>\n",
       "    </tr>\n",
       "    <tr>\n",
       "      <th>3</th>\n",
       "      <td>1669.0</td>\n",
       "      <td>202.0</td>\n",
       "      <td>0</td>\n",
       "      <td>0.0</td>\n",
       "      <td>1.0</td>\n",
       "      <td>7193</td>\n",
       "      <td>0</td>\n",
       "      <td>0.232031</td>\n",
       "      <td>947795.0</td>\n",
       "      <td>0.001761</td>\n",
       "      <td>...</td>\n",
       "      <td>0</td>\n",
       "      <td>0</td>\n",
       "      <td>0</td>\n",
       "      <td>0</td>\n",
       "      <td>0</td>\n",
       "      <td>0</td>\n",
       "      <td>0</td>\n",
       "      <td>0</td>\n",
       "      <td>0</td>\n",
       "      <td>0</td>\n",
       "    </tr>\n",
       "    <tr>\n",
       "      <th>4</th>\n",
       "      <td>37.0</td>\n",
       "      <td>162.0</td>\n",
       "      <td>0</td>\n",
       "      <td>0.0</td>\n",
       "      <td>1.0</td>\n",
       "      <td>380</td>\n",
       "      <td>0</td>\n",
       "      <td>0.097368</td>\n",
       "      <td>18553.0</td>\n",
       "      <td>0.001994</td>\n",
       "      <td>...</td>\n",
       "      <td>0</td>\n",
       "      <td>0</td>\n",
       "      <td>0</td>\n",
       "      <td>0</td>\n",
       "      <td>0</td>\n",
       "      <td>0</td>\n",
       "      <td>0</td>\n",
       "      <td>0</td>\n",
       "      <td>0</td>\n",
       "      <td>0</td>\n",
       "    </tr>\n",
       "  </tbody>\n",
       "</table>\n",
       "<p>5 rows × 168 columns</p>\n",
       "</div>"
      ],
      "text/plain": [
       "   Ranking  Number of Reviews  sample  Rating  chain  main_rest_in_city  \\\n",
       "0  12963.0                4.0       0     0.0    1.0               6108   \n",
       "1    106.0               97.0       0     0.0    1.0                475   \n",
       "2    810.0               28.0       0     0.0    1.0                745   \n",
       "3   1669.0              202.0       0     0.0    1.0               7193   \n",
       "4     37.0              162.0       0     0.0    1.0                380   \n",
       "\n",
       "   Cuisine Style_Nan  Relative Ranking  num_rewiews_city  \\\n",
       "0                  0          2.122299          690430.0   \n",
       "1                  0          0.223158           30435.0   \n",
       "2                  0          1.087248          172796.0   \n",
       "3                  0          0.232031          947795.0   \n",
       "4                  0          0.097368           18553.0   \n",
       "\n",
       "   relative_rank_reviews  ...  Albanian  Central Asian  Polynesian  Caucasian  \\\n",
       "0               0.018775  ...         0              0           0          0   \n",
       "1               0.003483  ...         0              0           0          0   \n",
       "2               0.004688  ...         0              0           0          0   \n",
       "3               0.001761  ...         0              0           0          0   \n",
       "4               0.001994  ...         0              0           0          0   \n",
       "\n",
       "   Uzbek  Salvadoran  Xinjiang  Burmese  Fujian  Latvian  \n",
       "0      0           0         0        0       0        0  \n",
       "1      0           0         0        0       0        0  \n",
       "2      0           0         0        0       0        0  \n",
       "3      0           0         0        0       0        0  \n",
       "4      0           0         0        0       0        0  \n",
       "\n",
       "[5 rows x 168 columns]"
      ]
     },
     "execution_count": 414,
     "metadata": {},
     "output_type": "execute_result"
    }
   ],
   "source": [
    "data.head()"
   ]
  },
  {
   "cell_type": "code",
   "execution_count": 415,
   "metadata": {},
   "outputs": [
    {
     "data": {
      "text/plain": [
       "Ranking              0\n",
       "Number of Reviews    0\n",
       "sample               0\n",
       "Rating               0\n",
       "chain                0\n",
       "                    ..\n",
       "Salvadoran           0\n",
       "Xinjiang             0\n",
       "Burmese              0\n",
       "Fujian               0\n",
       "Latvian              0\n",
       "Length: 168, dtype: int64"
      ]
     },
     "execution_count": 415,
     "metadata": {},
     "output_type": "execute_result"
    }
   ],
   "source": [
    "data.isna().sum()"
   ]
  },
  {
   "cell_type": "code",
   "execution_count": null,
   "metadata": {},
   "outputs": [],
   "source": []
  },
  {
   "cell_type": "code",
   "execution_count": 416,
   "metadata": {},
   "outputs": [],
   "source": [
    "# Теперь выделим тестовую часть\n",
    "train_data = data.query('sample == 1').drop(['sample'], axis=1)\n",
    "test_data = data.query('sample == 0').drop(['sample'], axis=1)\n",
    "\n",
    "y = train_data.Rating.values            # наш таргет\n",
    "X = train_data.drop(['Rating'], axis=1)"
   ]
  },
  {
   "cell_type": "code",
   "execution_count": 417,
   "metadata": {},
   "outputs": [],
   "source": [
    "from sklearn.model_selection import train_test_split"
   ]
  },
  {
   "cell_type": "code",
   "execution_count": 418,
   "metadata": {},
   "outputs": [],
   "source": [
    "# Воспользуемся специальной функцией train_test_split для разбивки тестовых данных\n",
    "# выделим 20% данных на валидацию (параметр test_size)\n",
    "X_train, X_test, y_train, y_test = train_test_split(X, y, test_size=0.2, random_state=RANDOM_SEED)"
   ]
  },
  {
   "cell_type": "code",
   "execution_count": 419,
   "metadata": {},
   "outputs": [
    {
     "data": {
      "text/plain": [
       "((10000, 167), (40000, 167), (40000, 166), (32000, 166), (8000, 166))"
      ]
     },
     "execution_count": 419,
     "metadata": {},
     "output_type": "execute_result"
    }
   ],
   "source": [
    "# проверяем\n",
    "test_data.shape, train_data.shape, X.shape, X_train.shape, X_test.shape"
   ]
  },
  {
   "cell_type": "markdown",
   "metadata": {},
   "source": [
    "# Обучаем, проверяем, оптимизируем"
   ]
  },
  {
   "cell_type": "code",
   "execution_count": 420,
   "metadata": {},
   "outputs": [],
   "source": [
    "# Импортируем необходимые библиотеки:\n",
    "from sklearn.ensemble import RandomForestRegressor # инструмент для создания и обучения модели\n",
    "from sklearn import metrics # инструменты для оценки точности модели"
   ]
  },
  {
   "cell_type": "code",
   "execution_count": 421,
   "metadata": {},
   "outputs": [],
   "source": [
    "# Создаём модель (НАСТРОЙКИ НЕ ТРОГАЕМ)\n",
    "model = RandomForestRegressor(n_estimators=100, verbose=1, n_jobs=-1, random_state=RANDOM_SEED)"
   ]
  },
  {
   "cell_type": "code",
   "execution_count": 422,
   "metadata": {},
   "outputs": [
    {
     "name": "stderr",
     "output_type": "stream",
     "text": [
      "[Parallel(n_jobs=-1)]: Using backend ThreadingBackend with 6 concurrent workers.\n",
      "[Parallel(n_jobs=-1)]: Done  38 tasks      | elapsed:    4.4s\n",
      "[Parallel(n_jobs=-1)]: Done 100 out of 100 | elapsed:   12.4s finished\n"
     ]
    },
    {
     "data": {
      "text/plain": [
       "RandomForestRegressor(n_jobs=-1, random_state=42, verbose=1)"
      ]
     },
     "execution_count": 422,
     "metadata": {},
     "output_type": "execute_result"
    }
   ],
   "source": [
    "# Обучаем модель на тестовом наборе данных\n",
    "model.fit(X_train, y_train)"
   ]
  },
  {
   "cell_type": "code",
   "execution_count": 423,
   "metadata": {},
   "outputs": [
    {
     "name": "stderr",
     "output_type": "stream",
     "text": [
      "[Parallel(n_jobs=6)]: Using backend ThreadingBackend with 6 concurrent workers.\n",
      "[Parallel(n_jobs=6)]: Done  38 tasks      | elapsed:    0.0s\n",
      "[Parallel(n_jobs=6)]: Done 100 out of 100 | elapsed:    0.0s finished\n"
     ]
    }
   ],
   "source": [
    "# Используем обученную модель для предсказания рейтинга ресторанов в тестовой выборке.\n",
    "# Предсказанные значения записываем в переменную y_pred\n",
    "y_pred = model.predict(X_test)\n",
    "def rating(prediction): # добавление функции улучшает MAE с 0,206 до 0,179\n",
    "        if prediction < 0.25:\n",
    "            return 0\n",
    "        elif 0.25 < prediction <= 0.75:\n",
    "            return 0.5\n",
    "        elif 0.75 < prediction <= 1.25:\n",
    "            return 1\n",
    "        elif 1.25 <prediction <= 1.75:\n",
    "            return 1.5\n",
    "        elif 1.75 < prediction <= 2.25:\n",
    "            return 2\n",
    "        elif 2.25 < prediction <= 2.75:\n",
    "            return 2.5\n",
    "        elif 2.75 < prediction <= 3.25:\n",
    "            return 3\n",
    "        elif 3.25 < prediction <= 3.75:\n",
    "            return 3.5\n",
    "        elif 3.75 < prediction <= 4.25:\n",
    "            return 4\n",
    "        elif 4.25 < prediction <= 4.75:\n",
    "            return 4.5\n",
    "        else:\n",
    "            return 5\n",
    "        \n",
    "for i in range(y_pred.size):\n",
    "        y_pred[i]=rating(y_pred[i])"
   ]
  },
  {
   "cell_type": "code",
   "execution_count": 424,
   "metadata": {},
   "outputs": [
    {
     "name": "stdout",
     "output_type": "stream",
     "text": [
      "MAE: 0.179\n"
     ]
    }
   ],
   "source": [
    "#Сравниваем предсказанные значения (y_pred) с реальными (y_test), и смотрим насколько они в среднем отличаются\n",
    "# Метрика называется Mean Absolute Error (MAE) и показывает среднее отклонение предсказанных значений от фактических.\n",
    "print('MAE:', metrics.mean_absolute_error(y_test, y_pred))"
   ]
  },
  {
   "cell_type": "code",
   "execution_count": 425,
   "metadata": {},
   "outputs": [
    {
     "data": {
      "text/plain": [
       "<AxesSubplot:>"
      ]
     },
     "execution_count": 425,
     "metadata": {},
     "output_type": "execute_result"
    },
    {
     "data": {
      "image/png": "[encoded data removed]",
      "text/plain": [
       "<Figure size 720x720 with 1 Axes>"
      ]
     },
     "metadata": {
      "needs_background": "light"
     },
     "output_type": "display_data"
    }
   ],
   "source": [
    "# в RandomForestRegressor есть возможность вывести самые важные признаки для модели\n",
    "plt.rcParams['figure.figsize'] = (10,10)\n",
    "feat_importances = pd.Series(model.feature_importances_, index=X.columns)\n",
    "feat_importances.nlargest(15).plot(kind='barh')"
   ]
  },
  {
   "cell_type": "markdown",
   "metadata": {},
   "source": [
    "Финализируем все и пишем код для работы информации из данного источника, по хорошему надо написать класс с функциями, но времени мало напишу пока просто функции"
   ]
  }
 ],
 "metadata": {
  "interpreter": {
   "hash": "38d51dd8e8d25c2b4859ddf5fde4d8615b38902fd48d30a19bf46ddb81d406a6"
  },
  "kernelspec": {
   "display_name": "Python 3.9.12 64-bit (windows store)",
   "language": "python",
   "name": "python3"
  },
  "language_info": {
   "codemirror_mode": {
    "name": "ipython",
    "version": 3
   },
   "file_extension": ".py",
   "mimetype": "text/x-python",
   "name": "python",
   "nbconvert_exporter": "python",
   "pygments_lexer": "ipython3",
   "version": "3.9.7"
  },
  "orig_nbformat": 4
 },
 "nbformat": 4,
 "nbformat_minor": 2
}
